{
  "cells": [
    {
      "cell_type": "markdown",
      "metadata": {},
      "source": [
        "# Solución"
      ],
      "id": "52cb873f-50e0-466a-b0ad-52ce8bba24c7"
    },
    {
      "cell_type": "code",
      "execution_count": 34,
      "metadata": {},
      "outputs": [],
      "source": [
        "# Paquetes utilizados\n",
        "from sympy import symbols, Eq, solve\n",
        "from math import pi"
      ],
      "id": "14e711cf-d7ff-46cc-970e-f91e7d49103a"
    },
    {
      "cell_type": "markdown",
      "metadata": {},
      "source": [
        "### Inciso 1\n",
        "\n",
        "Sea $P_I$ la presión en la intercepción, adicionalmente, sabemos que\n",
        "todas las presiones de los estanques son atmosféricas. Luego, creamos un\n",
        "sistema de ecuaciones para los puntos importantes.\n",
        "\n",
        "$$\n",
        "A-I: \\hspace{10mm} (z_I-z_A) + \\frac{P_I}{g\\rho} + \\left(K_{in} + K_{codo} + 4f\\frac{L_{A-I}}{d_A} + 1\\right)\\frac{u_A^2}{2g} = 0\n",
        "$$ (part1:cap2:ex2:eq1)\n",
        "\n",
        "$$\n",
        "B-I: \\hspace{10mm} (z_I-z_B) + \\frac{P_I}{g\\rho} + \\left(K_{in} + 4f\\frac{L_{B-I}}{d_B} + 1\\right)\\frac{u_B^2}{2g} = 0\n",
        "$$ (part1:cap2:ex2:eq2)\n",
        "\n",
        "$$\n",
        "I-C: \\hspace{10mm} (-z_I) - \\frac{P_I}{g\\rho} + \\left(K_{out} + 4f\\frac{L_{C-I}}{d_C} + 1\\right)\\frac{u_C^2}{2g} = 0\n",
        "$$ (part1:cap2:ex2:eq3)\n",
        "\n",
        "En donde $L$ es el largo que recorre el fluido entre los puntos.\n",
        "\n",
        "Igualando {eq}`part1:cap2:ex2:eq1` y {eq}`part1:cap2:ex2:eq2`.\n",
        "\n",
        "$$\n",
        "\\left(K_{in} + K_{codo} + 4f\\frac{L_{A-I}}{d_A} + 1\\right)\\frac{u_A^2}{2g} - \\left(K_{in} + 4f\\frac{L_{B-I}}{d_B} + 1\\right)\\frac{u_B^2}{2g} = (z_A - z_B)\n",
        "$$\n",
        "\n",
        "E igualando {eq}`part1:cap2:ex2:eq2` y -{eq}`part1:cap2:ex2:eq3`\n",
        "\n",
        "$$\n",
        "\\left(K_{in} + 4f\\frac{L_{B-I}}{d_B} + 1\\right)\\frac{u_B^2}{2g} +  \\left(K_{out} + 4f\\frac{L_{C-I}}{d_C} + 1\\right)\\frac{u_C^2}{2g} = z_B\n",
        "$$\n",
        "\n",
        "Además, sabemos que la ecuación de continuidad nos dice que:\n",
        "\n",
        "$$\n",
        "Q_A + Q_B = Q_C\n",
        "$$\n",
        "\n",
        "$$\n",
        "\\frac{\\pi}{4}d_A^2u_A + \\frac{\\pi}{4}d_B^2u_B = \\frac{\\pi}{4}d_C^2u_C\n",
        "$$\n",
        "\n",
        "Al formar un sistema de 3 incógnitas y tres ecuaciones despejamos para\n",
        "los valores de las velocidades."
      ],
      "id": "7f10816e-5175-4bf7-b2af-58654d585877"
    },
    {
      "cell_type": "code",
      "execution_count": 47,
      "metadata": {},
      "outputs": [
        {
          "output_type": "stream",
          "name": "stdout",
          "text": [
            "u_A es 5.01661842550508 m/s, u_B es 6.05885232038120 m/s y u_C es 4.72018116093660 m/s."
          ]
        }
      ],
      "source": [
        "# Constantes de enunciado\n",
        "g = 9.8 #m/s2\n",
        "rho = 876 #kg/m3\n",
        "nu = 0.691*10**(-6) #m2/s\n",
        "\n",
        "# Largos\n",
        "L_A = 2.7 + 1 #m\n",
        "L_B = 4 #m\n",
        "L_C = 2.3 #m\n",
        "\n",
        "# Diámetros\n",
        "d_A = 25/100 #m\n",
        "d_B = 27/100 #m\n",
        "d_C = 40/100 #m\n",
        "\n",
        "# Alturas\n",
        "z_A = 2 + 0.5 + 2.7 + 1 #m\n",
        "z_B = 2 + 2.7 + 1 #m\n",
        "\n",
        "# Pérdidas de carga\n",
        "K_in = 0.5\n",
        "K_codo = 1.2\n",
        "K_out = 1\n",
        "f = 0.0045\n",
        "\n",
        "# Variables simbólicas, x == u_A, y == u_B, z == u_C\n",
        "x, y, z = symbols('x y z')\n",
        "\n",
        "# Sistema de ecuaciones\n",
        "eq1 = Eq( (1/(2*g))*(K_in + K_codo + 4*f*(L_A/d_A) + 1)*x**2 - (1/(2*g))*(K_in + 4*f*(L_B/d_B) + 1)*y**2, z_A-z_B)\n",
        "eq2 = Eq( (1/(2*g))*(K_in + 4*f*(L_B/d_B) + 1)*y**2 + (1/(2*g))*(K_out + 4*f*(L_C/d_C) + 1)*z**2, z_B)\n",
        "eq3 = Eq( (pi/4)*(d_A**2)*x + (pi/4)*(d_B**2)*y, (pi/4)*(d_C**2)*z)\n",
        "\n",
        "# Solver y obtener únicamente las variables reales positivas.\n",
        "solutions = solve((eq1, eq2, eq3), (x, y, z))\n",
        "solution_vector = []\n",
        "for solution in solutions:\n",
        "    if all(sol.is_real and sol.is_positive for sol in solution):\n",
        "        solution_vector = solution\n",
        "\n",
        "print(\"u_A es\", solution_vector[0],\"m/s, u_B es\", solution_vector[1],\"m/s y u_C es\", solution_vector[2],\"m/s.\")"
      ],
      "id": "5303bf92-8f46-46e2-b5ec-77f200dcc0ee"
    },
    {
      "cell_type": "markdown",
      "metadata": {},
      "source": [
        "La velocidad justo después de entrar al estanque C es de\n",
        "$u_C = 4.72\\hspace{1mm}(m/s)$.\n",
        "\n",
        "### Inciso 2\n",
        "\n",
        "Para comprobar si el supuesto de fricción es acertado, podemos calcular\n",
        "el factor de fricción con la ecuación de Nevers, utilizando las\n",
        "velocidades encontradas. A este procedimiento se le conoce como\n",
        "*iteración*. Donde tomamos una suposición inicial para poder resolver\n",
        "nuestro sistema inicial, y luego comprobamos la exactitud de dicha\n",
        "suposición.\n",
        "\n",
        "Recordar que $\\epsilon = 0.0.046$.\n",
        "\n",
        "$$\n",
        "f = 0.001375\\left(1 + \\left(2\\times10^4\\frac{\\epsilon}{D} + \\frac{10^6}{Re}\\right)^{\\frac{1}{3}}\\right)\n",
        "$$\n",
        "\n",
        "Vemos los valores de Reynolds."
      ],
      "id": "990f7adf-05a1-4ae2-9561-958824d7cf6f"
    },
    {
      "cell_type": "code",
      "execution_count": 45,
      "metadata": {},
      "outputs": [
        {
          "output_type": "stream",
          "name": "stdout",
          "text": [
            "Re_A es 1741637.73901182 , Re_B es 2196882.69595985 y Re_C es 2571419.40665528 ."
          ]
        }
      ],
      "source": [
        "#Recordar que, del inciso anterior obtuvimos...\n",
        "u_A = solution_vector[0]\n",
        "u_B = solution_vector[1]\n",
        "u_C = solution_vector[2]\n",
        "\n",
        "reynolds_vector = []\n",
        "diameter_vector = [d_A, d_B, d_C]\n",
        "\n",
        "for i in range(0, len(solution_vector)):\n",
        "    reynolds_vector.append(solution_vector[i]*diameter_vector[i]/nu)\n",
        "print(\"Re_A es\", reynolds_vector[0],\", Re_B es\", reynolds_vector[1],\"y Re_C es\", reynolds_vector[2],\".\")"
      ],
      "id": "523b7021-8245-4ac4-aba6-79bd4aa6cec4"
    },
    {
      "cell_type": "markdown",
      "metadata": {},
      "source": [
        "Notamos que para esta iteración, los valores de Reynolds son\n",
        "turbulentos. Procedemos a utilizar la ecuación de Nevers."
      ],
      "id": "e8df7f71-7579-49ea-b4fd-5da6c7b5cb44"
    },
    {
      "cell_type": "code",
      "execution_count": 46,
      "metadata": {},
      "outputs": [
        {
          "output_type": "stream",
          "name": "stdout",
          "text": [
            "f_A = 0.0112335035638894\n",
            "f_B = 0.0109830955345500\n",
            "f_C = 0.00980426826752187"
          ]
        }
      ],
      "source": [
        "epsilon = 0.0046\n",
        "friction_vector = []\n",
        "for i in range(0, len(reynolds_vector)):\n",
        "    friction_vector.append(0.001375*(1+((2*10**4)*(epsilon/diameter_vector[i])+(10**6/reynolds_vector[i]))**(1/3)))\n",
        "\n",
        "print(\"f_A =\",friction_vector[0])\n",
        "print(\"f_B =\",friction_vector[1])\n",
        "print(\"f_C =\",friction_vector[2])"
      ],
      "id": "3884b596-89ea-4dbd-baf6-83587af22ed7"
    },
    {
      "cell_type": "markdown",
      "metadata": {},
      "source": [
        "Notamos que la diferencia entre los factores de fricción obtenidos y el\n",
        "supuesto es notoria. Se recomienda iterar reemplazando $f$ por un\n",
        "promedio de estos valores, y observar cómo varían las velocidades\n",
        "(Descarge el código y compruebe). ¿Observa alguna diferencia entre el\n",
        "resultado de velocidad incial?"
      ],
      "id": "e22834d3-b30d-49af-8e97-b2c73d2bace1"
    }
  ],
  "nbformat": 4,
  "nbformat_minor": 5,
  "metadata": {
    "kernelspec": {
      "name": "python3",
      "display_name": "Python 3 (ipykernel)",
      "language": "python"
    },
    "language_info": {
      "name": "python",
      "codemirror_mode": {
        "name": "ipython",
        "version": "3"
      },
      "file_extension": ".py",
      "mimetype": "text/x-python",
      "nbconvert_exporter": "python",
      "pygments_lexer": "ipython3",
      "version": "3.11.7"
    }
  }
}