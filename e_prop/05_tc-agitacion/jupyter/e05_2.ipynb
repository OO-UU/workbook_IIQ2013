{
 "cells": [
  {
   "cell_type": "markdown",
   "id": "6f5b9fdb-9305-4aea-b75f-a8d27fd2f1cd",
   "metadata": {},
   "source": [
    "# Enunciado"
   ]
  },
  {
   "cell_type": "markdown",
   "id": "6fbd2e34-482e-4f8c-bdce-678b1839130b",
   "metadata": {},
   "source": [
    "Un proceso industrial genera una corriente residual a $92~^\\circ\\mathrm{C}$ compuesta por tolueno ($22.3\\%$ en fracción molar) y agua. Con el fin de aprovechar esta corriente, se plantea someterla a un proceso de separación que opera de forma óptima a $20~^\\circ\\mathrm{C}$, por lo que es necesario enfriarla previamente.\n",
    "\n",
    "Muy a su pesar, su jefe insiste en utilizar un estanque agitado con serpentines dispuestos como deflectores para realizar el enfriamiento. Se propone entonces un estanque de $30~\\mathrm{m}^3$, con proporciones geométricas $S_1=S_5=1/4$ y $S_6=6/5$, similar al esquema mostrado en la figura 1.a), operando con una agitación de $N=150~\\mathrm{RPM}$.\n",
    "\n",
    "Respecto al diseño de los deflectores, la figura 1.b) ilustra un arreglo de 8 pasadas de tubo por deflector, con una separación de $J_n=15~\\mathrm{cm}$. Los tubos están fabricados en acero ($k = 50.2~\\mathrm{W}\\cdot\\mathrm{m}^{-1}\\cdot\\mathrm{K}^{-1}$) y presentan un espesor de pared de $m = 2.413~\\mathrm{mm}$. Por estos tubos circula etilenglicol como refrigerante, a un caudal volumétrico de $\\dot{V} = 12~\\mathrm{m}^3\\cdot\\mathrm{h}^{-1}$ y una temperatura de entrada de $5~^\\circ\\mathrm{C}$. Cabe destacar que el serpentín corresponde a un único tubo que forma todos los deflectores.\n",
    "\n",
    "Las propiedades termofísicas promedio de los compuestos involucrados son las siguientes:\n",
    "\n",
    "| Compuesto    | MW (g/mol) | Densidad (kg/m$^3$) | c$_P$ (J/kg$\\cdot$K) | k (W/m$\\cdot$K)  | mu (Pa$\\cdot$s) |\n",
    "|--------------|------------|-------------|--------|-------|-------|\n",
    "| Tolueno      | 92.14      | 802.9       | 1921.3 | 0.114 | 3.02$\\times10^{-4}$  |\n",
    "| Agua         | 18.02      | 997.3       | 4199.1 | 0.607 | 9.01$\\times10^{-4}$  |\n",
    "| Etilenglicol | 62.07      | 1104.0      | 812.03 | 0.251 | 64.02$\\times10^{-4}$ |\n",
    "\n",
    "Para estimar cualquier propiedad termofísica $\\bar{M}$ de la mezcla, puede utilizar la siguiente expresión:\n",
    "$$\n",
    "\\bar{M} = w_1\\cdot\\bar{M}_1+w_2\\cdot\\bar{M}_2\n",
    "$$\n",
    "donde $w_i$ representa la fracción másica del componente $i$.\n",
    "\n",
    "1. Si se desea enfriar la corriente con agitación durante un período de 13 horas, ¿cuántos deflectores se requieren en el estanque?\n",
    "Considere que para el refrigerante en los serpentines (dispuestos como deflectores), puede utilizar la ecuación de Dittus-Boelter para estimar el número de Nusselt. Para el fluido agitado en el estanque, utilice la ecuación de Havas:\n",
    "$$\n",
    "Nu = 0.208Re_D^{0.65}Pr^{0.33}\\left(\\frac{\\mu}{\\mu_w}\\right)^{0.4}\n",
    "$$\n",
    "2. Itere los cálculos anteriores hasta encontrar el tiempo necesario para que el número de deflectores sea $n_b = 3$. Compare ese tiempo con el obtenido usando la ecuación de Dunlap y Rushton (disponible en el formulario) para $n_b = 3$:\n",
    "$$\n",
    "Nu = 0.09Re_D^{0.65}Pr^{0.33}\\left(\\frac{D_a}{D_t}\\right)^{0.33}\\left(\\frac{2}{n_b}\\right)^{0.2}\\left(\\frac{\\mu}{\\mu_w}\\right)^{0.4}\n",
    "$$\n",
    "En caso de obtener resultados distintos, responda: ¿A qué se debe esta diferencia? ¿Cuál de los métodos considera más adecuado utilizar y por qué?"
   ]
  },
  {
   "cell_type": "markdown",
   "id": "3bf0ab0d-8427-461a-b828-d5cb9b450bc1",
   "metadata": {},
   "source": [
    "Librerías utilizadas"
   ]
  },
  {
   "cell_type": "code",
   "execution_count": 1,
   "id": "315bd91b-dcca-4f1c-a8e3-396aff5d4eda",
   "metadata": {},
   "outputs": [],
   "source": [
    "import numpy as np\n",
    "from scipy.optimize import fsolve, least_squares"
   ]
  },
  {
   "cell_type": "markdown",
   "id": "fd904ca1-14ce-42ce-bc3a-0ae505b3f070",
   "metadata": {},
   "source": [
    "# Solución"
   ]
  },
  {
   "cell_type": "markdown",
   "id": "ed9668bb-df7e-4cdd-9066-433099618580",
   "metadata": {},
   "source": [
    "## Inciso 1"
   ]
  },
  {
   "cell_type": "markdown",
   "id": "98db3451-76a1-45af-bd03-e9de36bfbda3",
   "metadata": {},
   "source": [
    "### Cálculo de las dimensiones del sistema"
   ]
  },
  {
   "cell_type": "code",
   "execution_count": 2,
   "id": "f66c8813-9a9f-4ec0-9cbd-a6975d282a8c",
   "metadata": {},
   "outputs": [
    {
     "name": "stdout",
     "output_type": "stream",
     "text": [
      "D_i 1.5 in; o 3.81 cm\n"
     ]
    }
   ],
   "source": [
    "V = 30\n",
    "S_6 = 6/5\n",
    "D_t = ((4*V)/(np.pi*S_6))**(1/3)\n",
    "H = S_6 * D_t\n",
    "S_1 = 1/4\n",
    "D_a = S_1 * D_t\n",
    "\n",
    "# Cálculo de diámetro de tubo del serpentín\n",
    "J = D_a\n",
    "J_n = 0.15\n",
    "n_tb = 8\n",
    "D_e = (J_n*(n_tb-1) - J)/(n_tb-2)\n",
    "m = 0.002413\n",
    "D_i = D_e - 2*m\n",
    "print(f\"D_i {D_i/0.0254:0.1f} in; o {D_i*100:0.2f} cm\")"
   ]
  },
  {
   "cell_type": "markdown",
   "id": "d6c02590-7150-4e9a-b972-856c0661b485",
   "metadata": {},
   "source": [
    "### Cálculo de las propiedades termofísicas de los fluidos"
   ]
  },
  {
   "cell_type": "code",
   "execution_count": 3,
   "id": "2f24adee-801a-4b98-b5c0-eff039897292",
   "metadata": {},
   "outputs": [
    {
     "name": "stdout",
     "output_type": "stream",
     "text": [
      "Propiedades fluido caliente - rho: 881.7 kg/m3 | mu: 0.5448 cP | k: 0.314 W/m*K | cp 2844.4 J/kg*K |\n"
     ]
    }
   ],
   "source": [
    "# Fluido agitado (caliente)\n",
    "x_tol = 0.223\n",
    "MW_tol = 92.14\n",
    "MW_w = 18.02\n",
    "MW_h = x_tol*MW_tol + (1 - x_tol)*MW_w\n",
    "w_tol = (x_tol*MW_tol)/MW_h\n",
    "w_w = 1 - w_tol\n",
    "rho_h = w_tol*802.9 + w_w*997.3\n",
    "mu_h = (w_tol*3.02 + w_w*9.01)*10**(-4)\n",
    "k_h = w_tol*0.114 + w_w*0.607\n",
    "cp_h = w_tol*1921.3 + w_w*4199.1\n",
    "# Fluido por serpentín (frio)\n",
    "rho_c = 1104.0\n",
    "mu_c = 64.02e-4\n",
    "k_c = 0.251\n",
    "cp_c = 812.03\n",
    "print(f'Propiedades fluido caliente - rho: {rho_h:0.1f} kg/m3 | mu: {mu_h*1000:0.4f} cP | k: {k_h:0.3f} W/m*K | cp {cp_h:0.1f} J/kg*K |')"
   ]
  },
  {
   "cell_type": "markdown",
   "id": "ed54902c-ac8e-4a09-bc10-8c713f5ab064",
   "metadata": {},
   "source": [
    "### Cálculo de U"
   ]
  },
  {
   "cell_type": "code",
   "execution_count": 4,
   "id": "d88ae0ef-17e7-4e2a-a7b3-0bbc7a6fcb9d",
   "metadata": {},
   "outputs": [
    {
     "name": "stdout",
     "output_type": "stream",
     "text": [
      "Re_h: 2539984.72 -- Re_c: 19197.52\n",
      "Nu_h: 5129.49 -- Nu_c: 206.45\n",
      "h_h: 507.89 W/m2K -- h_c: 1359.21 W/m2K\n",
      "U: 351.03 W/m2K\n"
     ]
    }
   ],
   "source": [
    "# Lado del estanque (Fluido caliente)\n",
    "N = 150/60\n",
    "Re_h = (rho_h*N*D_a**2)/mu_h\n",
    "Pr_h = (mu_h*cp_h)/k_h\n",
    "Nu_h = 0.208 * Re_h**0.65 * Pr_h**0.33\n",
    "h_h = Nu_h*k_h/D_t\n",
    "# Lado del serpentín (Fluido frio)\n",
    "v_c = 12/3600\n",
    "Re_c = (4*rho_c*v_c)/(np.pi*D_i*mu_c)\n",
    "Pr_c = (mu_c*cp_c)/k_c\n",
    "Nu_c = 0.023 * Re_c**0.8 * Pr_c**0.4\n",
    "h_c = Nu_c*k_c/D_i\n",
    "# Cálculo de U\n",
    "k_p = 50.2\n",
    "U = (D_e/(D_i*h_c) + D_e/(2*k_p)*np.log(D_e/D_i) + 1/h_h)**(-1)\n",
    "print(f'Re_h: {Re_h:0.2f} -- Re_c: {Re_c:0.2f}')\n",
    "print(f'Nu_h: {Nu_h:0.2f} -- Nu_c: {Nu_c:0.2f}')\n",
    "print(f'h_h: {h_h:0.2f} W/m2K -- h_c: {h_c:0.2f} W/m2K')\n",
    "print(f'U: {U:0.2f} W/m2K')"
   ]
  },
  {
   "cell_type": "markdown",
   "id": "320e389f-dfeb-4711-b907-e9dffb55740b",
   "metadata": {},
   "source": [
    "### Cálculo del área de transferencia y temperatura de salida del fluido refrigerante"
   ]
  },
  {
   "cell_type": "markdown",
   "id": "f6806f68-f316-408e-ad27-2be4b97588f7",
   "metadata": {},
   "source": [
    "Se puede armar un sistema de ecuaciones a partir de la ecuación de diseño y el tiempo de mezclado.\n",
    "$$\n",
    "F\\cdot c_{P,\\mathrm{ME}}\\cdot(T_{\\mathrm{ME},~o}-T_{\\mathrm{ME},~i}) = A\\cdot U\\cdot\\Delta T_{ml}\n",
    "$$\n",
    "\n",
    "$$\n",
    "13\\times3600 = \\frac{M\\frac{c_P}{c_{P,\\mathrm{ME}}}}{F(1-K_\\mathrm{ME})}\\ln\\left(\\frac{T_i-T_{\\mathrm{ME},~i}}{T_o-T_{\\mathrm{ME},~i}}\\right)\n",
    "$$"
   ]
  },
  {
   "cell_type": "code",
   "execution_count": 5,
   "id": "ff94d0b3-6ed2-4e8d-93d7-7d4915dc8f1d",
   "metadata": {},
   "outputs": [
    {
     "name": "stdout",
     "output_type": "stream",
     "text": [
      "Área de transferencia de calor requerida: 24.80 m2\n",
      "Fluido frio (serpentines) --- Tin: 5.00 °C | Tout: 19.19 °C\n",
      "Fluido caliente (agitado) --- Tin: 92.00 °C | Tout: 20.00 °C\n"
     ]
    }
   ],
   "source": [
    "Ti_h = 92 + 273.15\n",
    "To_h = 20 + 273.15\n",
    "Ti_c = 5 + 273.15\n",
    "M = V*rho_h\n",
    "F = v_c*rho_c\n",
    "\n",
    "def log_pos(x):\n",
    "    return np.log(x) if x > 0 else np.nan\n",
    "\n",
    "def solve_Q(values):\n",
    "    To_c, A = values\n",
    "    # Igualar los q\n",
    "    q_1 = F*cp_c*(To_c - Ti_c)\n",
    "    DTml = (To_c-Ti_c)/log_pos( (To_h-Ti_c)/(To_h-To_c) )\n",
    "    q_2 = U*A*DTml\n",
    "    eq1 = q_1 - q_2\n",
    "    # Tiempo de mezclado debe ser 14 horas\n",
    "    K_ME = np.exp( -(U*A)/(F*cp_c) )\n",
    "    eq2 = 13*3600 - ( (M*cp_h/cp_c)/(F*(1-K_ME))*log_pos( (Ti_h-Ti_c)/(To_h-Ti_c) ) )\n",
    "\n",
    "    return [eq1, eq2]\n",
    "\n",
    "sol_ini = [10+273.15, 20.0]\n",
    "bounds = ([Ti_c + 1e-3, 0.1], [To_h - 1e-3, 1000.0])  # To_c entre Ti_c y To_h, A > 0\n",
    "sol = least_squares(solve_Q, x0=sol_ini, bounds=bounds)\n",
    "\n",
    "To_c = sol.x[0]\n",
    "A = sol.x[1]\n",
    "\n",
    "print(f'Área de transferencia de calor requerida: {A:0.2f} m2')\n",
    "print(f'Fluido frio (serpentines) --- Tin: {Ti_c-273.15:0.2f} °C | Tout: {To_c-273.15:0.2f} °C')\n",
    "print(f'Fluido caliente (agitado) --- Tin: {Ti_h-273.15:0.2f} °C | Tout: {To_h-273.15:0.2f} °C')"
   ]
  },
  {
   "cell_type": "markdown",
   "id": "f732f6cc-e07d-441d-afa2-a4d11f3958d8",
   "metadata": {},
   "source": [
    "### Cálculo del número de deflectores"
   ]
  },
  {
   "cell_type": "code",
   "execution_count": 6,
   "id": "fd76e830-7a45-4297-af97-8571e4ce10dc",
   "metadata": {},
   "outputs": [
    {
     "name": "stdout",
     "output_type": "stream",
     "text": [
      "Se necesitan 6.041 deflectores.\n"
     ]
    }
   ],
   "source": [
    "L = A/(np.pi*D_e)\n",
    "n_b = L/(8*H)\n",
    "print(f'Se necesitan {n_b:0.3f} deflectores.')"
   ]
  },
  {
   "cell_type": "markdown",
   "id": "40c82fb4-06c5-4fe1-a6e2-0f5a483d1517",
   "metadata": {},
   "source": [
    "## Inciso 2"
   ]
  },
  {
   "cell_type": "markdown",
   "id": "3d3c4776-8638-4edc-b5b8-83a86e093af6",
   "metadata": {},
   "source": [
    "Iterando los cálculos del inciso anterior, se llega a que $t_M\\approx16$ horas."
   ]
  },
  {
   "cell_type": "markdown",
   "id": "cb76adb1-fef3-441f-818b-5fb60678220f",
   "metadata": {},
   "source": [
    "### Calcular U utilizando Dunlap y Rushton"
   ]
  },
  {
   "cell_type": "code",
   "execution_count": 7,
   "id": "f2f0b4e7-ae5a-484b-95df-327dce32ff56",
   "metadata": {},
   "outputs": [
    {
     "name": "stdout",
     "output_type": "stream",
     "text": [
      "Área de transferencia disponible para 3 deflectores: 12.32 m2\n",
      "\n",
      "h_h: 128.25 W/m2K\n",
      "h_c: 1359.21 W/m2K\n",
      "U: 115.25 W/m2K\n"
     ]
    }
   ],
   "source": [
    "n_b = 3\n",
    "L = (8*H)*n_b\n",
    "A = np.pi*D_e*L\n",
    "print(f'Área de transferencia disponible para {n_b:0.0f} deflectores: {A:0.2f} m2')\n",
    "\n",
    "# Nuevo coeficiente local de transferencia de calor\n",
    "Nu_h = 0.09 * Re_h**0.65 * Pr_h**0.33 * (D_a/D_t)**0.33 * (2/n_b)**0.2\n",
    "h_h = Nu_h*k_h/D_t\n",
    "\n",
    "# Recalcular U\n",
    "U = (D_e/(D_i*h_c) + D_e/(2*k_p)*np.log(D_e/D_i) + 1/h_h)**(-1)\n",
    "print('')\n",
    "print(f'h_h: {h_h:0.2f} W/m2K')\n",
    "print(f'h_c: {h_c:0.2f} W/m2K')\n",
    "print(f'U: {U:0.2f} W/m2K')"
   ]
  },
  {
   "cell_type": "markdown",
   "id": "ce926cf5-4523-42a5-8d7e-2335257295b8",
   "metadata": {},
   "source": [
    "### Calcular el tiempo de mezclado"
   ]
  },
  {
   "cell_type": "code",
   "execution_count": 8,
   "id": "61150fb6-f9ba-4cee-b44f-5b5bf4356614",
   "metadata": {},
   "outputs": [
    {
     "name": "stdout",
     "output_type": "stream",
     "text": [
      "El tiempo de mezclado es de 32.52 horas.\n"
     ]
    }
   ],
   "source": [
    "K_ME = np.exp( -(U*A)/(F*cp_c) )\n",
    "t_M = (M*cp_h/cp_c)/(F*(1-K_ME))*log_pos( (Ti_h-Ti_c)/(To_h-Ti_c) )\n",
    "\n",
    "print(f'El tiempo de mezclado es de {t_M/3600:0.2f} horas.')"
   ]
  }
 ],
 "metadata": {
  "kernelspec": {
   "display_name": "Python 3 (ipykernel)",
   "language": "python",
   "name": "python3"
  },
  "language_info": {
   "codemirror_mode": {
    "name": "ipython",
    "version": 3
   },
   "file_extension": ".py",
   "mimetype": "text/x-python",
   "name": "python",
   "nbconvert_exporter": "python",
   "pygments_lexer": "ipython3",
   "version": "3.12.3"
  }
 },
 "nbformat": 4,
 "nbformat_minor": 5
}
