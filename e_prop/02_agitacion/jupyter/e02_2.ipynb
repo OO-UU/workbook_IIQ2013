{
 "cells": [
  {
   "cell_type": "markdown",
   "id": "bc092e34-a60d-46c5-9664-ed5219300ab3",
   "metadata": {},
   "source": [
    "## Solución"
   ]
  },
  {
   "cell_type": "code",
   "execution_count": 5,
   "id": "4a9f815d-7e2c-4dcb-9521-47507eabff6a",
   "metadata": {},
   "outputs": [],
   "source": [
    "# Paquetes utilizados\n",
    "import handcalcs.render\n",
    "from handcalcs import handcalc\n",
    "from math import pi"
   ]
  },
  {
   "cell_type": "markdown",
   "id": "cdc1cc95-f773-482c-a591-edfa0d2ad334",
   "metadata": {},
   "source": [
    "### Inciso 1"
   ]
  },
  {
   "cell_type": "markdown",
   "id": "aea8227c-3c53-421f-9617-23aff308c0be",
   "metadata": {},
   "source": [
    "Del gráfico obtenemos que a $20\\hspace{1mm}°C$ la viscosidad es $\\mu\\approx 280\\hspace{1mm}(cP)$. Ya que nos encontramos en regimen laminar, tenemos que:\n",
    "\n",
    "$$\n",
    "\\mu_1N_1^2 = \\mu_2N_2^2\n",
    "$$\n",
    "\n",
    "Entonces despejando para $\\mu_2$."
   ]
  },
  {
   "cell_type": "code",
   "execution_count": 6,
   "id": "9737ae04-e70c-408f-80b4-c8279fd4ffcb",
   "metadata": {},
   "outputs": [
    {
     "data": {
      "text/latex": [
       "\\[\n",
       "\\begin{aligned}\n",
       "\\mu_{1} &= 280 \\; \\;\\textrm{(cP)}\n",
       "\\\\[10pt]\n",
       "N_{1} &= 400 \\; \\;\\textrm{(RPM)}\n",
       "\\\\[10pt]\n",
       "N_{2} &= 230 \\; \\;\\textrm{(RPM)}\n",
       "\\\\[10pt]\n",
       "\\mu_{2} &= \\mu_{1} \\cdot \\left( \\frac{ N_{1} }{ N_{2} } \\right) ^{ 2 } \\\\&= 280 \\cdot \\left( \\frac{ 400 }{ 230 } \\right) ^{ 2 } \\\\&= 846.881 \\; \\;\\textrm{(cP)}\\\\[10pt]\n",
       "\\end{aligned}\n",
       "\\]"
      ],
      "text/plain": [
       "<IPython.core.display.Latex object>"
      ]
     },
     "metadata": {},
     "output_type": "display_data"
    }
   ],
   "source": [
    "%%render long\n",
    "mu_1 = 280 #cP\n",
    "N_1 = 400 #RPM\n",
    "N_2 = 230 #RPM\n",
    "mu_2 = mu_1*(N_1/N_2)**2 #cP"
   ]
  },
  {
   "cell_type": "markdown",
   "id": "e96d5972-ed5e-45d1-908e-621c2eb3b395",
   "metadata": {},
   "source": [
    "Del gráfico de viscosidades, notamos que para $\\mu=846.9\\hspace{1mm}(cP)$ la temperatura debe ser $T\\approx 6\\hspace{1mm}°C$."
   ]
  },
  {
   "cell_type": "markdown",
   "id": "942aa6f9-9f5c-4427-b192-db120678b918",
   "metadata": {},
   "source": [
    "### Inciso 2"
   ]
  },
  {
   "cell_type": "markdown",
   "id": "861a45e2-b182-42b3-900b-22220d65ae9a",
   "metadata": {},
   "source": [
    "Si el escalamiento se basa en una velocidad de punta constante:\n",
    "\n",
    "$$\n",
    "D_{a,1}N_1=D_{a,2}N_2\n",
    "$$\n",
    "\n",
    "Entonces,"
   ]
  },
  {
   "cell_type": "code",
   "execution_count": 7,
   "id": "bdc54b8f-5bcb-4c9b-bbae-c904ef3ebb87",
   "metadata": {},
   "outputs": [
    {
     "data": {
      "text/latex": [
       "\\[\n",
       "\\begin{aligned}\n",
       "D_{a1} &= 0.150 \\; \\;\\textrm{(m)}\n",
       "\\\\[10pt]\n",
       "D_{a2} &= D_{a1} \\cdot \\frac{ N_{1} }{ N_{2} } \\\\&= 0.150 \\cdot \\frac{ 400 }{ 230 } \\\\&= 0.261 \\; \\;\\textrm{(m)}\\\\[10pt]\n",
       "\\\\[10pt]\n",
       "D_{t2} &= 3 \\cdot D_{a2} \\\\&= 3 \\cdot 0.261 \\\\&= 0.783 \\; \\;\\textrm{(m)}\\\\[10pt]\n",
       "\\\\[10pt]\n",
       "H_{2} &= \\frac{ 3 }{ 2 } \\cdot D_{t2} \\\\&= \\frac{ 3 }{ 2 } \\cdot 0.783 \\\\&= 1.174 \\; \\;\\textrm{(m)}\\\\[10pt]\n",
       "\\\\[10pt]\n",
       "V_{2} &= \\pi \\cdot \\left( \\frac{ D_{t2} }{ 2 } \\right) ^{ 2 } \\cdot H_{2} \\\\&= 3.142 \\cdot \\left( \\frac{ 0.783 }{ 2 } \\right) ^{ 2 } \\cdot 1.174 \\\\&= 0.565 \\; \\;\\textrm{(m$^3$)}\\\\[10pt]\n",
       "\\end{aligned}\n",
       "\\]"
      ],
      "text/plain": [
       "<IPython.core.display.Latex object>"
      ]
     },
     "metadata": {},
     "output_type": "display_data"
    }
   ],
   "source": [
    "%%render long\n",
    "D_a1 = 0.15 # m\n",
    "D_a2 = D_a1*N_1/N_2 #m\n",
    "D_t2 = 3*D_a2 #m\n",
    "H_2 = 3/2*D_t2 #m\n",
    "V_2 = pi*(D_t2/2)**2*H_2 #m$^3$"
   ]
  },
  {
   "cell_type": "markdown",
   "id": "74c1fafd-e8ce-415b-a131-1e20ea4438ce",
   "metadata": {},
   "source": [
    "### Inciso 3"
   ]
  },
  {
   "cell_type": "markdown",
   "id": "e2a35d43-493a-498b-b9be-ef2613adf0c5",
   "metadata": {},
   "source": [
    "Se debe cumplir que el número de potencia es equivalente.\n",
    "\n",
    "$$\n",
    "N_{p,1} = N_{p,2} \\Rightarrow \\frac{P_1}{\\rho_1N_1^3D_{a,1}^5} = \\frac{P_2}{\\rho_2N_2^3D_{a,2}^5}\n",
    "$$"
   ]
  },
  {
   "cell_type": "markdown",
   "id": "c4b8401e",
   "metadata": {},
   "source": [
    "Recordar que la temperatura del agitador industrial se encuentra aproximadamente a $6\\hspace{1mm}°C$, a esa temperatura la densidad del aceite será $\\rho_2\\approx 887.5\\hspace{1mm}(kg/m^3)$. Y en las condiciones iniciales a $20\\hspace{1mm}°C$ la densidad $\\rho_1\\approx 878\\hspace{1mm}(kg/m^3)$."
   ]
  },
  {
   "cell_type": "code",
   "execution_count": 8,
   "id": "d8d3064d-bf98-48c4-8246-a56e2ec517c2",
   "metadata": {},
   "outputs": [
    {
     "data": {
      "text/latex": [
       "\\[\n",
       "\\begin{aligned}\n",
       "P_{1} &= 3 \\; \\;\\textrm{(kW)}\n",
       "\\\\[10pt]\n",
       "\\rho_{1} &= 878 \\; \\;\\textrm{(kg/m$^3$)}\n",
       "\\\\[10pt]\n",
       "\\rho_{2} &= 887.500 \\; \\;\\textrm{(kg/m$^3$)}\n",
       "\\\\[10pt]\n",
       "P_{2} &= P_{2} \\\\&= P_{1} \\cdot \\frac{ \\rho_{2} \\cdot \\left( \\frac{ N_{2} }{ 60 } \\right) ^{ 3 } \\cdot \\left( D_{a2} \\right) ^{ 5 } }{ \\rho_{1} \\cdot \\left( \\frac{ N_{1} }{ 60 } \\right) ^{ 3 } \\cdot \\left( D_{a1} \\right) ^{ 5 } } \\\\&= 9.172 \\\\&= 3 \\cdot \\frac{ 887.500 \\cdot \\left( \\frac{ 230 }{ 60 } \\right) ^{ 3 } \\cdot \\left( 0.261 \\right) ^{ 5 } }{ 878 \\cdot \\left( \\frac{ 400 }{ 60 } \\right) ^{ 3 } \\cdot \\left( 0.150 \\right) ^{ 5 } } \\\\&= 9.172 \\; \\;\\textrm{(kW)}\\\\[10pt]\n",
       "\\end{aligned}\n",
       "\\]"
      ],
      "text/plain": [
       "<IPython.core.display.Latex object>"
      ]
     },
     "metadata": {},
     "output_type": "display_data"
    }
   ],
   "source": [
    "%%render long\n",
    "P_1 = 3 #kW\n",
    "rho_1 = 878 #kg/m$^3$\n",
    "rho_2 = 887.5 #kg/m$^3$\n",
    "P_2 = P_1*(rho_2*(N_2/60)**3*D_a2**5)/(rho_1*(N_1/60)**3*D_a1**5) #kW"
   ]
  },
  {
   "cell_type": "code",
   "execution_count": null,
   "id": "6f23817e-95be-40a1-b724-9616ff87668c",
   "metadata": {},
   "outputs": [],
   "source": []
  }
 ],
 "metadata": {
  "kernelspec": {
   "display_name": "Python 3 (ipykernel)",
   "language": "python",
   "name": "python3"
  },
  "language_info": {
   "codemirror_mode": {
    "name": "ipython",
    "version": 3
   },
   "file_extension": ".py",
   "mimetype": "text/x-python",
   "name": "python",
   "nbconvert_exporter": "python",
   "pygments_lexer": "ipython3",
   "version": "3.11.7"
  }
 },
 "nbformat": 4,
 "nbformat_minor": 5
}
