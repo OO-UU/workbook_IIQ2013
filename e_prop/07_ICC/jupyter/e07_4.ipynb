{
 "cells": [
  {
   "cell_type": "markdown",
   "id": "5c498e0c-6178-4b98-8874-8cfcca719f25",
   "metadata": {},
   "source": [
    "# Enunciado"
   ]
  },
  {
   "cell_type": "markdown",
   "id": "e40bc97a-40b3-4dbd-aaa9-12a10d37feab",
   "metadata": {},
   "source": [
    "Se desechan $150$ kg/s de agua residual $(R_{f}=6\\times10^{-5}~\\mathrm{m}^2~\\mathrm{K}/W)$ a $90~^\\circ$C luego de pasar por el sistema de alcantarillado de la ciudad. Para disminuir la temperatura de salida, se opta por utilizar un intercambiador de placas. Cada placa del intercambiador tiene una distancia vertical entre puertos de $1.60$ metros y un ancho de $50$ centímetros, con una separación de $6$ milímetros entre placas. Según el fabricante, el rendimiento térmico se ve mejorado por un factor de amplaición superficial de $1.17$, y las placas Chevrón disponen de un ángulo de $50~^\\circ$. Las placas son de Cuproníquel 90/10 y tienen un espesor de $0.8$ milímetros. El diámetro de los puertos está especificado como $0.15$ metros.\n",
    "\n",
    "Con tal de reducir la temperatura del agua residual hasta los $60~^\\circ$C, se busca utilizar agua de río que se encuentra naturalmente a $15~^\\circ$C con un caudal másico de $200$ kg/s. Considere un arreglo de paso único para ambas corrientes (fría y caliente) a contra-corriente y un factor de seguridad de $1.5$.\n",
    "\n",
    "1. Encuentre el número de platos requeridos (y totales) en el intercambiador, y determine el área de transferencia de calor efectiva para dicho número de platos.\n",
    "2. A partir de sus resultados en el inciso anterior, calcule las péridas de carga totales para el fluido caliente y frio."
   ]
  },
  {
   "cell_type": "markdown",
   "id": "9c58b8fc-dea4-4d94-80f1-d490256286c8",
   "metadata": {},
   "source": [
    "# Solución"
   ]
  },
  {
   "cell_type": "code",
   "execution_count": 1,
   "id": "b144fa05-6bea-4fd8-97f0-e7602c992137",
   "metadata": {},
   "outputs": [],
   "source": [
    "Ti_h = 90 + 273.15\n",
    "To_h = 60 + 273.15\n",
    "Ti_c = 15 +273.15\n",
    "m_h = 150\n",
    "m_c = 200\n",
    "Rf_c = 0.000086\n",
    "Rf_h = 0.00006\n",
    "k_w = 35\n",
    "L_v = 1.6\n",
    "L_w = 0.5\n",
    "b = 6e-3\n",
    "phi = 1.17\n",
    "t = 8e-4\n",
    "D_p = 0.15\n",
    "C_s = 1.5\n",
    "F = 1 #Supuesto"
   ]
  },
  {
   "cell_type": "code",
   "execution_count": 2,
   "id": "8b8a635f-714a-40f1-8ddd-72fc547d7122",
   "metadata": {},
   "outputs": [],
   "source": [
    "# Propiedades termofísicas, fluido frio\n",
    "rho_c = 996\n",
    "mu_c = 8.15e-4\n",
    "cp_c = 4179\n",
    "Pr_c = 5.58\n",
    "k_c = 0.612\n",
    "# Propiedades termofísicas, fluido caliente\n",
    "rho_h = 965\n",
    "mu_h = 3.16e-4\n",
    "cp_h = 4205\n",
    "Pr_h = 1.96\n",
    "k_h = 0.675"
   ]
  },
  {
   "cell_type": "markdown",
   "id": "f58ad9c1-b57c-44cf-80b2-d29b5b414354",
   "metadata": {},
   "source": [
    "## Inciso 1"
   ]
  },
  {
   "cell_type": "code",
   "execution_count": 3,
   "id": "28261cb0-cb7a-4ed7-a2b8-d2044fe25255",
   "metadata": {},
   "outputs": [],
   "source": [
    "def calc_h(N_t, m, b, L_w, D_e, mu, Pr, k):\n",
    "    N_p = 1\n",
    "    N_cp = (N_t - 1)/(2*N_p)\n",
    "    mch = m/N_cp\n",
    "    Gch = mch/(b*L_w)\n",
    "    Re = Gch*D_e/mu\n",
    "    Nu = 0.13*Re**0.732*Pr**(1/3)\n",
    "    return Nu*k/D_e"
   ]
  },
  {
   "cell_type": "markdown",
   "id": "632604e6-2cbf-4597-8e5d-26ce1220891f",
   "metadata": {},
   "source": [
    "### Encontrar $q$ y $\\Delta T_{ml}$"
   ]
  },
  {
   "cell_type": "code",
   "execution_count": 4,
   "id": "354dcbe0-e538-48a4-86a2-9d50d3b96f94",
   "metadata": {},
   "outputs": [
    {
     "name": "stdout",
     "output_type": "stream",
     "text": [
      "Q_r = 18922.500 kW\n",
      "DTml = 48.59 °C\n"
     ]
    }
   ],
   "source": [
    "import numpy as np\n",
    "Q_r = m_h*cp_h*(Ti_h - To_h)\n",
    "To_c = Q_r/(m_c*cp_c) + Ti_c\n",
    "DTml = ( (To_h-Ti_c) - (Ti_h-To_c) )/np.log( (To_h-Ti_c)/(Ti_h-To_c) )\n",
    "print(f'Q_r = {Q_r/1000:0.3f} kW')\n",
    "print(f'DTml = {DTml:0.2f} °C')"
   ]
  },
  {
   "cell_type": "markdown",
   "id": "aed025f9-2505-4444-94a0-a7cf3d260517",
   "metadata": {},
   "source": [
    "### Número de placas a partir de un $U_f$ de diseño"
   ]
  },
  {
   "cell_type": "code",
   "execution_count": 5,
   "id": "c2a25245-f7b9-4956-b697-252ffc5c0fd7",
   "metadata": {},
   "outputs": [
    {
     "name": "stdout",
     "output_type": "stream",
     "text": [
      " Número de placas efectivo de 137.74 redondeado a 139.0\n",
      "A_e = 116.836 m2\n",
      "N_t = 141\n"
     ]
    }
   ],
   "source": [
    "U_f = 5000\n",
    "Q_f = C_s * Q_r\n",
    "A_e = Q_f/(U_f*F*DTml)\n",
    "A_1p = (L_v - D_p) * L_w\n",
    "A_1 = A_1p * phi\n",
    "N_e = np.ceil(A_e/A_1) + 1 # Debe ser impar\n",
    "print(f' Número de placas efectivo de {A_e/A_1:0.2f} redondeado a {N_e}')\n",
    "N_t = N_e + 2\n",
    "print(f'A_e = {A_e:0.3f} m2')\n",
    "print(f'N_t = {N_t:0.0f}')"
   ]
  },
  {
   "cell_type": "markdown",
   "id": "7c63472f-99ac-48f2-af2f-20e60ac8be94",
   "metadata": {},
   "source": [
    "### Verificar"
   ]
  },
  {
   "cell_type": "code",
   "execution_count": 6,
   "id": "11a1abf9-abfa-4050-bdc0-01c4b6c412a3",
   "metadata": {},
   "outputs": [
    {
     "name": "stdout",
     "output_type": "stream",
     "text": [
      "h_h = 16787.36 W/m2K\n",
      "h_c = 13309.08 W/m2K\n",
      "U_f = 3294.22 W/m2K\n"
     ]
    }
   ],
   "source": [
    "A_ch = b*L_w\n",
    "D_e = 2*b/phi\n",
    "N_p = 1\n",
    "h_h = calc_h(N_t, m_h, b, L_w, D_e, mu_h, Pr_h, k_h)\n",
    "h_c = calc_h(N_t, m_c, b, L_w, D_e, mu_c, Pr_c, k_c)\n",
    "U_c = 1/( 1/h_c + 1/h_h + t/k_w )\n",
    "U_f = 1/( 1/U_c + Rf_c + Rf_h )\n",
    "print(f'h_h = {h_h:0.2f} W/m2K')\n",
    "print(f'h_c = {h_c:0.2f} W/m2K')\n",
    "print(f'U_f = {U_f:0.2f} W/m2K')"
   ]
  },
  {
   "cell_type": "markdown",
   "id": "a466894f-785a-4f90-90f4-9a3e1c64392a",
   "metadata": {},
   "source": [
    "Ya que 5000 $\\neq$ 3294.22, se itera."
   ]
  },
  {
   "cell_type": "markdown",
   "id": "eba06042-6d21-45f7-92a7-0542393c65cf",
   "metadata": {},
   "source": [
    "### Replicar con nuevo $U_f$"
   ]
  },
  {
   "cell_type": "code",
   "execution_count": 7,
   "id": "b6ec9777-189a-4890-a4e0-651f06619804",
   "metadata": {},
   "outputs": [
    {
     "name": "stdout",
     "output_type": "stream",
     "text": [
      " Número de placas efectivo de 209.06 redondeado a 211.0\n",
      "A_e = 177.336 m2\n",
      "N_t = 213\n"
     ]
    }
   ],
   "source": [
    "A_e = Q_f/(U_f*F*DTml)\n",
    "N_e = np.ceil(A_e/A_1) + 1 # Debe ser impar\n",
    "print(f' Número de placas efectivo de {A_e/A_1:0.2f} redondeado a {N_e}')\n",
    "N_t = N_e + 2\n",
    "print(f'A_e = {A_e:0.3f} m2')\n",
    "print(f'N_t = {N_t:0.0f}')"
   ]
  },
  {
   "cell_type": "markdown",
   "id": "2de01f5e-772a-452b-a64f-ec94a461baa3",
   "metadata": {},
   "source": [
    "### Verificar"
   ]
  },
  {
   "cell_type": "code",
   "execution_count": 8,
   "id": "fc4da8e3-296b-4130-9342-e47b548412d3",
   "metadata": {},
   "outputs": [
    {
     "name": "stdout",
     "output_type": "stream",
     "text": [
      "h_h = 12389.97 W/m2K\n",
      "h_c = 9822.82 W/m2K\n",
      "U_f = 2845.99 W/m2K\n"
     ]
    }
   ],
   "source": [
    "h_h = calc_h(N_t, m_h, b, L_w, D_e, mu_h, Pr_h, k_h)\n",
    "h_c = calc_h(N_t, m_c, b, L_w, D_e, mu_c, Pr_c, k_c)\n",
    "U_c = 1/( 1/h_c + 1/h_h + t/k_w )\n",
    "U_f = 1/( 1/U_c + Rf_c + Rf_h )\n",
    "print(f'h_h = {h_h:0.2f} W/m2K')\n",
    "print(f'h_c = {h_c:0.2f} W/m2K')\n",
    "print(f'U_f = {U_f:0.2f} W/m2K')"
   ]
  },
  {
   "cell_type": "markdown",
   "id": "cb40d06d-41d0-48b3-8eff-e15b026b3eec",
   "metadata": {},
   "source": [
    "Ya que 3294.22 $\\neq$ 2845.99, se itera."
   ]
  },
  {
   "cell_type": "markdown",
   "id": "df4c6075-8137-45e3-b2e7-3948b070166b",
   "metadata": {},
   "source": [
    "### Replicar con nuevo $U_f$"
   ]
  },
  {
   "cell_type": "code",
   "execution_count": 9,
   "id": "a5fba31f-de60-4a45-bcea-688842f16cdf",
   "metadata": {},
   "outputs": [
    {
     "name": "stdout",
     "output_type": "stream",
     "text": [
      " Número de placas efectivo de 241.99 redondeado a 242.0\n",
      "A_e = 205.265 m2\n",
      "N_t = 244\n"
     ]
    }
   ],
   "source": [
    "A_e = Q_f/(U_f*F*DTml)\n",
    "N_e = np.ceil(A_e/A_1) # Debe ser impar\n",
    "print(f' Número de placas efectivo de {A_e/A_1:0.2f} redondeado a {N_e}')\n",
    "N_t = N_e + 2\n",
    "print(f'A_e = {A_e:0.3f} m2')\n",
    "print(f'N_t = {N_t:0.0f}') # Notar que si N_t constante significa que U no cambiará. De todas formas se puede iterar para verificar."
   ]
  },
  {
   "cell_type": "markdown",
   "id": "072c3617-1d4b-4d93-9c2c-123d7913d09a",
   "metadata": {},
   "source": [
    "### Verificar"
   ]
  },
  {
   "cell_type": "code",
   "execution_count": 10,
   "id": "e7f8bdfa-1d77-4bea-ab1a-bdb9272a1bde",
   "metadata": {},
   "outputs": [
    {
     "name": "stdout",
     "output_type": "stream",
     "text": [
      "h_h = 11212.03 W/m2K\n",
      "h_c = 8888.94 W/m2K\n",
      "U_f = 2698.72 W/m2K\n"
     ]
    }
   ],
   "source": [
    "h_h = calc_h(N_t, m_h, b, L_w, D_e, mu_h, Pr_h, k_h)\n",
    "h_c = calc_h(N_t, m_c, b, L_w, D_e, mu_c, Pr_c, k_c)\n",
    "U_c = 1/( 1/h_c + 1/h_h + t/k_w )\n",
    "U_f = 1/( 1/U_c + Rf_c + Rf_h )\n",
    "print(f'h_h = {h_h:0.2f} W/m2K')\n",
    "print(f'h_c = {h_c:0.2f} W/m2K')\n",
    "print(f'U_f = {U_f:0.2f} W/m2K')"
   ]
  },
  {
   "cell_type": "markdown",
   "id": "8b7846be-cfbf-41d4-8058-6af05f18421a",
   "metadata": {},
   "source": [
    "Ya que 2845.99 $\\neq$ 2698.72, se itera."
   ]
  },
  {
   "cell_type": "markdown",
   "id": "b8fdb35d-a4ec-4882-b223-cd39d0f5e4bd",
   "metadata": {},
   "source": [
    "### Replicar con nuevo $U_f$"
   ]
  },
  {
   "cell_type": "code",
   "execution_count": 11,
   "id": "863529be-f0f2-4c18-b8de-4fb5a6726d0b",
   "metadata": {},
   "outputs": [
    {
     "name": "stdout",
     "output_type": "stream",
     "text": [
      " Número de placas efectivo de 255.19 redondeado a 257.0\n",
      "A_e = 216.467 m2\n",
      "N_t = 259\n"
     ]
    }
   ],
   "source": [
    "A_e = Q_f/(U_f*F*DTml)\n",
    "N_e = np.ceil(A_e/A_1) + 1 # Debe ser impar\n",
    "print(f' Número de placas efectivo de {A_e/A_1:0.2f} redondeado a {N_e}')\n",
    "N_t = N_e + 2\n",
    "print(f'A_e = {A_e:0.3f} m2')\n",
    "print(f'N_t = {N_t:0.0f}') # Notar que si N_t constante significa que U no cambiará. De todas formas se puede iterar para verificar."
   ]
  },
  {
   "cell_type": "markdown",
   "id": "fcc0c10a-f248-4768-af65-e36458cf5777",
   "metadata": {},
   "source": [
    "### Verificar"
   ]
  },
  {
   "cell_type": "code",
   "execution_count": 12,
   "id": "cbad0288-12b8-4e3c-b142-6983911f8e0d",
   "metadata": {},
   "outputs": [
    {
     "name": "stdout",
     "output_type": "stream",
     "text": [
      "h_h = 10731.06 W/m2K\n",
      "h_c = 8507.62 W/m2K\n",
      "U_f = 2634.45 W/m2K\n"
     ]
    }
   ],
   "source": [
    "h_h = calc_h(N_t, m_h, b, L_w, D_e, mu_h, Pr_h, k_h)\n",
    "h_c = calc_h(N_t, m_c, b, L_w, D_e, mu_c, Pr_c, k_c)\n",
    "U_c = 1/( 1/h_c + 1/h_h + t/k_w )\n",
    "U_f = 1/( 1/U_c + Rf_c + Rf_h )\n",
    "print(f'h_h = {h_h:0.2f} W/m2K')\n",
    "print(f'h_c = {h_c:0.2f} W/m2K')\n",
    "print(f'U_f = {U_f:0.2f} W/m2K')"
   ]
  },
  {
   "cell_type": "markdown",
   "id": "775c932e-a32a-44c6-9ad8-bc299300fb0a",
   "metadata": {},
   "source": [
    "Ya que 2698.72 $\\approx$ 2634.45, se tiene la verdadera área efectiva final."
   ]
  },
  {
   "cell_type": "markdown",
   "id": "f45ca16c-6a85-4855-b841-29d07bb3f364",
   "metadata": {},
   "source": [
    "### Área final"
   ]
  },
  {
   "cell_type": "code",
   "execution_count": 13,
   "id": "92dca614-0b36-457a-b3c9-8a7eadd3f7e4",
   "metadata": {},
   "outputs": [
    {
     "name": "stdout",
     "output_type": "stream",
     "text": [
      "La verdadera área efectiva del intercambiador para 257 placas efectivas será de 218.00 m2\n"
     ]
    }
   ],
   "source": [
    "A_e = N_e*A_1\n",
    "print(f'La verdadera área efectiva del intercambiador para {N_e:0.0f} placas efectivas será de {A_e:0.2f} m2')"
   ]
  },
  {
   "cell_type": "markdown",
   "id": "37b569f8-f986-4b81-81b2-47d20f50c3dc",
   "metadata": {},
   "source": [
    "## Inciso 2"
   ]
  },
  {
   "cell_type": "code",
   "execution_count": 14,
   "id": "eab7abaf-0861-4b40-8232-b327bf2ff1f2",
   "metadata": {},
   "outputs": [],
   "source": [
    "def calc_Dpc(N_t, m, b, L_w, D_e, mu, rho):\n",
    "    N_p = 1\n",
    "    N_cp = (N_t - 1)/(2*N_p)\n",
    "    mch = m/N_cp\n",
    "    Gch = mch/(b*L_w)\n",
    "    Re = Gch*D_e/mu\n",
    "    f = 0.772/Re**0.161\n",
    "    return 4*f * L_v*N_p/D_e * Gch**2/(2*rho)"
   ]
  },
  {
   "cell_type": "code",
   "execution_count": 15,
   "id": "775c55cd-49f9-49f4-991a-c981f6b170f7",
   "metadata": {},
   "outputs": [
    {
     "name": "stdout",
     "output_type": "stream",
     "text": [
      "Caída de presión del fluido caliente: 60.47 kPa\n",
      "Caída de presión del fluido frío: 105.74 kPa\n"
     ]
    }
   ],
   "source": [
    "# Canales\n",
    "Dpc_h = calc_Dpc(N_t, m_h, b, L_w, D_e, mu_h, rho_h)\n",
    "Dpc_c = calc_Dpc(N_t, m_c, b, L_w, D_e, mu_c, rho_c)\n",
    "# Puertos\n",
    "Gp_h = m_h/(np.pi/4 * D_p**2)\n",
    "Gp_c = m_c/(np.pi/4 * D_p**2)\n",
    "Dpp_h = 1.4*1 * Gp_h**2/(2*rho_h)\n",
    "Dpp_c = 1.4*1 * Gp_c**2/(2*rho_c)\n",
    "Dp_h = Dpc_h + Dpp_h\n",
    "Dp_c = Dpc_c + Dpp_c\n",
    "print(f'Caída de presión del fluido caliente: {Dp_h/1000:0.2f} kPa')\n",
    "print(f'Caída de presión del fluido frío: {Dp_c/1000:0.2f} kPa')"
   ]
  }
 ],
 "metadata": {
  "kernelspec": {
   "display_name": "Python 3 (ipykernel)",
   "language": "python",
   "name": "python3"
  },
  "language_info": {
   "codemirror_mode": {
    "name": "ipython",
    "version": 3
   },
   "file_extension": ".py",
   "mimetype": "text/x-python",
   "name": "python",
   "nbconvert_exporter": "python",
   "pygments_lexer": "ipython3",
   "version": "3.12.3"
  }
 },
 "nbformat": 4,
 "nbformat_minor": 5
}
