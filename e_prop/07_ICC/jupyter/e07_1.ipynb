{
 "cells": [
  {
   "cell_type": "markdown",
   "id": "4aed5934",
   "metadata": {},
   "source": [
    "## Solución"
   ]
  },
  {
   "cell_type": "markdown",
   "id": "df92d483-70a2-4a31-93a5-af76b5ac0d09",
   "metadata": {},
   "source": [
    "### Inciso 1"
   ]
  },
  {
   "cell_type": "code",
   "execution_count": 21,
   "id": "593cc424-2c2a-4411-b931-0f98d1ff258c",
   "metadata": {},
   "outputs": [],
   "source": [
    "from numpy import cosh, sqrt, tanh\n",
    "import handcalcs.render"
   ]
  },
  {
   "cell_type": "markdown",
   "id": "e694d57e-2e46-4666-b75b-4e1c5398322e",
   "metadata": {},
   "source": [
    "Sabemos que un supuesto válido para aletas es el de punta de aleta adiabática. Para estas condiciones sabemos que la *temperatura de exceso* a lo largo de la aleta viene dado por:\n",
    "\n",
    "$$\n",
    "\\frac{\\theta(x)}{\\theta_b} = \\frac{\\cosh{m(L-x)}}{\\cosh mL}\n",
    "$$"
   ]
  },
  {
   "cell_type": "markdown",
   "id": "cf5b127c-0202-435d-8e18-929805dc1bad",
   "metadata": {},
   "source": [
    "Donde $m$ será:\n",
    "\n",
    "$$\n",
    "m = \\sqrt{\\frac{hP}{kA_c}}\n",
    "$$"
   ]
  },
  {
   "cell_type": "markdown",
   "id": "e005dcd6-d90f-44a4-953c-54f9e0a38519",
   "metadata": {},
   "source": [
    "Para derterminar la temperatura en la punta del asta podemos utilizar la primera ecuación:\n",
    "\n",
    "$$\n",
    "T(L) = \\frac{(T_b-T_{\\infty})(1)}{\\cosh{mL}}+T_{\\infty}\n",
    "$$"
   ]
  },
  {
   "cell_type": "code",
   "execution_count": 19,
   "id": "c4a4d29c-59c7-4d8a-b85e-b4ad3fc0368e",
   "metadata": {},
   "outputs": [
    {
     "data": {
      "text/latex": [
       "\\[\n",
       "\\begin{aligned}\n",
       "T_{inf} &= 1200 \\; \\;\\textrm{(C)}\n",
       " &T_{b} &= 300 \\; \\;\\textrm{(C)}\n",
       " &A_{c} &= 0.001 \\; \\;\\textrm{(m$^2$)}\n",
       "\\\\[10pt]\n",
       " P &= 0.110 \\; \\;\\textrm{(m)}\n",
       " &k &= 20 \\; \\;\\textrm{(W/m$\\cdot$K)}\n",
       " &L &= 0.050 \\; \\;\\textrm{(m)}\n",
       "\\\\[10pt]\n",
       " h &= 250 \\; \\;\\textrm{(W/m$^2\\cdot$K)}\n",
       "\\end{aligned}\n",
       "\\]"
      ],
      "text/plain": [
       "<IPython.core.display.Latex object>"
      ]
     },
     "metadata": {},
     "output_type": "display_data"
    }
   ],
   "source": [
    "%%render params\n",
    "T_inf = 1200 #C\n",
    "T_b = 300 #C\n",
    "A_c = 6e-4 #m$^2$\n",
    "P = 110/1000 #m\n",
    "k = 20 #W/m$\\cdot$K\n",
    "L = 0.05 #m\n",
    "h = 250 #W/m$^2\\cdot$K"
   ]
  },
  {
   "cell_type": "code",
   "execution_count": 20,
   "id": "4acf065e-7f49-41db-aed7-a390111d9455",
   "metadata": {},
   "outputs": [
    {
     "data": {
      "text/latex": [
       "\\[\n",
       "\\begin{aligned}\n",
       "m &= \\sqrt { \\frac{ h \\cdot P }{ A_{c} \\cdot k } } \\\\&= \\sqrt { \\frac{ 250 \\cdot 0.110 }{ 0.001 \\cdot 20 } } \\\\&= 47.871  \\\\[10pt]\n",
       "\\\\[10pt]\n",
       "T_{L} &= \\frac{ T_{b} - T_{inf} }{ \\cosh \\left( m \\cdot L \\right) } + T_{inf} \\\\&= \\frac{ 300 - 1200 }{ \\cosh \\left( 47.871 \\cdot 0.050 \\right) } + 1200 \\\\&= 1037.013 \\; \\;\\textrm{($^\\circ$C)}\\\\[10pt]\n",
       "\\end{aligned}\n",
       "\\]"
      ],
      "text/plain": [
       "<IPython.core.display.Latex object>"
      ]
     },
     "metadata": {},
     "output_type": "display_data"
    }
   ],
   "source": [
    "%%render long\n",
    "m = sqrt((h*P)/(A_c*k))\n",
    "T_L = (T_b-T_inf)/(cosh(m*L))+T_inf #$^\\circ$C"
   ]
  },
  {
   "cell_type": "markdown",
   "id": "593eeed7-f8db-480d-8d0c-437e96866dc2",
   "metadata": {},
   "source": [
    "Ya que nos encontramos bajo $1060~\\text{°C}$ es aceptable."
   ]
  },
  {
   "cell_type": "markdown",
   "id": "598cade0-6841-498a-b237-1509712e505b",
   "metadata": {},
   "source": [
    "### Inciso 2"
   ]
  },
  {
   "cell_type": "markdown",
   "id": "8165694e-1e37-4ee4-908f-647835e11aea",
   "metadata": {},
   "source": [
    "Para aletas que cumplan las ecuaciones descritas anterioremente para $\\theta(x)$, se puede derivar a partir de la ley de Fourier la siguiente ecuación:\n",
    "\n",
    "$$\n",
    "q_f = \\sqrt{hPkA_c}\\theta_b\\tanh{mL}\n",
    "$$"
   ]
  },
  {
   "cell_type": "code",
   "execution_count": 23,
   "id": "35ae400c-9c85-4fec-8a47-ca5a60bdeaba",
   "metadata": {},
   "outputs": [
    {
     "data": {
      "text/latex": [
       "\\[\n",
       "\\begin{aligned}\n",
       "\\theta_{b} &= T_{b} - T_{inf} \\\\&= 300 - 1200 \\\\&= -900 \\; \\;\\textrm{($^\\circ$C~o~K)}\\\\[10pt]\n",
       "\\\\[10pt]\n",
       "q_{f} &= \\sqrt { h \\cdot P \\cdot k \\cdot A_{c} } \\cdot \\theta_{b} \\cdot \\tanh \\left( m \\cdot L \\right) \\\\&= \\sqrt { 250 \\cdot 0.110 \\cdot 20 \\cdot 0.001 } \\cdot -900 \\cdot \\tanh \\left( 47.871 \\cdot 0.050 \\right) \\\\&= -508.462 \\; \\;\\textrm{(W)}\\\\[10pt]\n",
       "\\end{aligned}\n",
       "\\]"
      ],
      "text/plain": [
       "<IPython.core.display.Latex object>"
      ]
     },
     "metadata": {},
     "output_type": "display_data"
    }
   ],
   "source": [
    "%%render long\n",
    "theta_b = T_b-T_inf #$^\\circ$C~o~K\n",
    "q_f = sqrt(h*P*k*A_c)*theta_b*tanh(m*L) #W"
   ]
  },
  {
   "cell_type": "markdown",
   "id": "39f91f98-99ac-4546-8f80-098deec57747",
   "metadata": {},
   "source": [
    "Luego la aleta libera calor y la base lo percibe tal que $-q_f = q_{refrig}$. Entonces el refrigerante recibe calor a $508.46~\\text{W}$."
   ]
  }
 ],
 "metadata": {
  "kernelspec": {
   "display_name": "Python 3 (ipykernel)",
   "language": "python",
   "name": "python3"
  },
  "language_info": {
   "codemirror_mode": {
    "name": "ipython",
    "version": 3
   },
   "file_extension": ".py",
   "mimetype": "text/x-python",
   "name": "python",
   "nbconvert_exporter": "python",
   "pygments_lexer": "ipython3",
   "version": "3.11.7"
  }
 },
 "nbformat": 4,
 "nbformat_minor": 5
}
