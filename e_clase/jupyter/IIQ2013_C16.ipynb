{
 "cells": [
  {
   "cell_type": "markdown",
   "id": "1a648f8d-035e-4ce7-8b60-7c3f24a69158",
   "metadata": {},
   "source": [
    "# IIQ2013 - Clase 16"
   ]
  },
  {
   "cell_type": "markdown",
   "id": "a4c23b4e-e4fc-4a05-8f98-f3d412ef473d",
   "metadata": {},
   "source": [
    "El agua fría será calentada por una corriente de aguas residuales. El agua fría con un caudal de 140 kg/s entra al intercambiador de calor de placas con empaques a 22°C y será calentada hasta 42°C. Las aguas residuales tienen el mismo caudal, entrando a 65°C y saliendo a 45°C. La caída de presión máxima permitida para cada corriente es de 50 psi.\n",
    "\n",
    "Las especificaciones del proceso son las siguientes:\n",
    "\n",
    "| Parámetro                                        | Fluido caliente (Aguas residuales) | Fluido frío (Agua de enfriamiento) |\n",
    "|--------------------------------------------------|------------------------------------|-------------------------------------|\n",
    "| Caudal $(\\mathrm{kg/s})$                         | 140                                | 140                                 |\n",
    "| Temperatura de entrada $(^\\circ\\mathrm{C})$      | 65                                 | 22                                  |\n",
    "| Temperatura de salida $(^\\circ\\mathrm{C})$       | 45                                 | 42                                  |\n",
    "| Caída de presión máxima permitida $(\\mathrm{psi})$ | 50                              | 50                                  |\n",
    "| Resistencia total a la incrustación $(\\mathrm{m}^2 \\cdot \\mathrm{K} / \\mathrm{W})$ | 0.00005          | 0                                   |\n",
    "| Calor específico $(\\mathrm{J} / \\mathrm{kg} \\cdot \\mathrm{K})$   | 4183                               | 4178                                |\n",
    "| Viscosidad $(\\mathrm{N} \\cdot \\mathrm{s} / \\mathrm{m}^2)$          | $5.09 \\times 10^{-4}$              | $7.66 \\times 10^{-4}$               |\n",
    "| Conductividad térmica $(\\mathrm{W} / \\mathrm{m} \\cdot \\mathrm{K})$ | 0.645                            | 0.617                               |\n",
    "| Densidad $(\\mathrm{kg} / \\mathrm{m}^3)$                   | 985                                | 995                                 |\n",
    "| Número de Prandtl                                | 3.31                               | 5.19                                |\n",
    "\n",
    "\n",
    "Datos del fabricante del intercambiador de calor de placas propuesto\n",
    "\n",
    "| Material de placa                                          | SS304               |\n",
    "|------------------------------------------------------------|---------------------|\n",
    "| Espesor de placa $(\\mathrm{mm})$                           | 0.6                 |\n",
    "| Ángulo del chevron $(^\\circ)$                              | 45                  |\n",
    "| Número total de placas, $N_t$                              | 105                 |\n",
    "| Factor de ampliación, $\\phi$                               | 1.25                |\n",
    "| Número de pasos                                            | Un paso / un paso   |\n",
    "| Coef. global transferencia de calor (limpio/sucio) $(\\mathrm{W} / \\mathrm{m}^2 \\cdot \\mathrm{K})$ | 8000 / 4500  |\n",
    "| Área efectiva total $(\\mathrm{m}^2)$                       | 110                 |\n",
    "| Diámetro de los puertos $(\\mathrm{mm})$                    | 200                 |\n",
    "| Longitud del paquete comprimido, $L_c$ $(\\mathrm{m})$      | 0.38                |\n",
    "| Distancia vertical entre puertos, $L_v$ $(\\mathrm{m})$     | 1.55                |\n",
    "| Distancia horizontal entre puertos, $L_h$ $(\\mathrm{m})$   | 0.43                |\n",
    "| Ancho efectivo del canal, $L_{w}$ $(\\mathrm{m})$           | 0.63                |\n",
    "| Conductividad térmica del material $(\\mathrm{W} / \\mathrm{m} \\cdot \\mathrm{K})$ | 17.5            |\n",
    "\n",
    "Paquetes utilizados:"
   ]
  },
  {
   "cell_type": "code",
   "execution_count": 1,
   "id": "792957da-b902-4c9b-bbbd-0d86fe40149b",
   "metadata": {},
   "outputs": [],
   "source": [
    "import numpy as np\n",
    "import handcalcs.render\n",
    "handcalcs.set_option(\"latex_block_start\", \"$$\")\n",
    "handcalcs.set_option(\"latex_block_end\", \"$$\")\n",
    "from math import pi, log"
   ]
  },
  {
   "cell_type": "markdown",
   "id": "ff86700a-2a69-4c9d-aac0-6958ecb10bd2",
   "metadata": {},
   "source": [
    "## Pregunta 1\n",
    "Verifique que el factor de ampliación $\\phi$ entregado por el fabricante sea correcto."
   ]
  },
  {
   "cell_type": "markdown",
   "id": "eb716ad7-db40-40cf-890f-068f83eae6a0",
   "metadata": {},
   "source": [
    "## Solución"
   ]
  },
  {
   "cell_type": "markdown",
   "id": "8d973536-ad34-45c3-beeb-606d18809ed2",
   "metadata": {},
   "source": [
    "El factor de ampliación será la razón entre el área de transferencia de calor efectiva de una única placa $A_1$ y su área proyectada $A_{1p}$."
   ]
  },
  {
   "cell_type": "code",
   "execution_count": 2,
   "id": "875b50af-1cd2-4d33-8e4d-310ce40f7576",
   "metadata": {},
   "outputs": [
    {
     "data": {
      "text/latex": [
       "$$\n",
       "\\begin{aligned}\n",
       "D_{p} &= 0.200 \\; \\;\\textrm{(m, Diámetro del puerto)}\n",
       " &L_{w} &= 0.630 \\; \\;\\textrm{(m, Ancho del canal)}\n",
       " &L_{v} &= 1.550 \\; \\;\\textrm{(m, Distancia vertical entre los puestos)}\n",
       "\\\\[10pt]\n",
       " N_{t} &= 105 \\; \\;\\textrm{(Número de placas)}\n",
       " &A_{e} &= 110 \\; \\;\\textrm{(m$^2$, Área efectiva de transferencia)}\n",
       "\\end{aligned}\n",
       "$$"
      ],
      "text/plain": [
       "<IPython.core.display.Latex object>"
      ]
     },
     "metadata": {},
     "output_type": "display_data"
    }
   ],
   "source": [
    "%%render params\n",
    "D_p = 0.2 #m, Diámetro del puerto\n",
    "L_w = 0.63 #m, Ancho del canal\n",
    "L_v = 1.55 #m, Distancia vertical entre los puestos\n",
    "N_t = 105 #Número de placas\n",
    "A_e = 110 #m$^2$, Área efectiva de transferencia"
   ]
  },
  {
   "cell_type": "code",
   "execution_count": 3,
   "id": "90660c08-4bec-4d5f-bc4f-2ed993baffdc",
   "metadata": {},
   "outputs": [
    {
     "data": {
      "text/latex": [
       "$$\n",
       "\\begin{aligned}\n",
       "& \\textrm{ Área proyectada, A$_{1p}$}\\\\[10pt]\n",
       "A_{1p} &= \\left( L_{v} - D_{p} \\right) \\cdot L_{w}  = \\left( 1.550 - 0.200 \\right) \\cdot 0.630 &= 0.851 \\; \\;\\textrm{(m$^2$)}\n",
       "\\\\[10pt]\n",
       "& \\textrm{ Área efectiva, A$_1$}\\\\[10pt]\n",
       "N_{e} &= N_{t} - 2  = 105 - 2 &= 103  \n",
       "\\\\[10pt]\n",
       "A_{1} &= \\frac{ A_{e} }{ N_{e} }  = \\frac{ 110 }{ 103 } &= 1.068 \\; \\;\\textrm{(m$^2$)}\n",
       "\\\\[10pt]\n",
       "& \\textrm{ Factor de ampliación superficial, $\\phi$}\\\\[10pt]\n",
       "\\phi &= \\frac{ A_{1} }{ A_{1p} }  = \\frac{ 1.068 }{ 0.851 } &= 1.256  \n",
       "\\end{aligned}\n",
       "$$"
      ],
      "text/plain": [
       "<IPython.core.display.Latex object>"
      ]
     },
     "metadata": {},
     "output_type": "display_data"
    }
   ],
   "source": [
    "%%render short\n",
    "## Área proyectada, A$_{1p}$\n",
    "A_1p = (L_v - D_p)*L_w #m$^2$\n",
    "## Área efectiva, A$_1$\n",
    "N_e = N_t - 2\n",
    "A_1 = A_e/N_e #m$^2$\n",
    "## Factor de ampliación superficial, $\\phi$\n",
    "phi = A_1/A_1p"
   ]
  },
  {
   "cell_type": "markdown",
   "id": "4b330b27-f458-4512-be3d-20eaac1b40ff",
   "metadata": {},
   "source": [
    "Entonces los datos entregados por el fabricante son correctos."
   ]
  },
  {
   "cell_type": "markdown",
   "id": "fa454a06-3ed1-49d7-a199-53e3bfb6c93a",
   "metadata": {},
   "source": [
    "## Pregunta 2"
   ]
  },
  {
   "cell_type": "markdown",
   "id": "f7898263-8aa6-445d-8846-f7534724f255",
   "metadata": {},
   "source": [
    "Calcule el número de Reynolds para el fluido caliente y el fluido frio.\n",
    "\n",
    "(a) $Re_h \\leq 10000$ y $Re_c \\leq 10000$ \\\n",
    "(b) $Re_h \\leq 10000$ y $10000 \\leq Re_c$ \\\n",
    "(c) $10000 \\leq Re_h$ y $Re_c \\leq 10000$ \\\n",
    "(d) $10000 \\leq Re_h$ y $10000 \\leq Re_c$"
   ]
  },
  {
   "cell_type": "markdown",
   "id": "8d0ebdba-ba71-426f-8e15-545b908fc55e",
   "metadata": {},
   "source": [
    "## Solución"
   ]
  },
  {
   "cell_type": "markdown",
   "id": "47b5569f-4665-4740-9eff-c605a11ae5c8",
   "metadata": {},
   "source": [
    "Primero se deben encontrar los flux másicos de los canales a partir de los parámetros de diseño del itnercambiador calculados en el inciso anterior."
   ]
  },
  {
   "cell_type": "code",
   "execution_count": 9,
   "id": "0ed36fa6-9163-41ca-afdc-4483b53c13b8",
   "metadata": {},
   "outputs": [
    {
     "data": {
      "text/latex": [
       "$$\n",
       "\\begin{aligned}\n",
       "t &= 0.001 \\; \\;\\textrm{(m, Espesor de una placa)}\n",
       " &L_{c} &= 0.380 \\; \\;\\textrm{(m, Longitud del paquete comprimido)}\n",
       " &N_{p} &= 1 \\; \\;\\textrm{(Número de pasadas)}\n",
       "\\\\[10pt]\n",
       " m &= 140 \\; \\;\\textrm{(kg/s, Flujo másico igual para ambos flujos)}\n",
       " &\\mu_{h} &= 0.001 \\; \\;\\textrm{(Pa$\\cdot$s)}\n",
       " &\\mu_{c} &= 0.001 \\; \\;\\textrm{(Pa$\\cdot$s)}\n",
       "\\\\[10pt]\n",
       "\\end{aligned}\n",
       "$$"
      ],
      "text/plain": [
       "<IPython.core.display.Latex object>"
      ]
     },
     "metadata": {},
     "output_type": "display_data"
    }
   ],
   "source": [
    "%%render params\n",
    "t = 0.6/1000 #m, Espesor de una placa\n",
    "L_c = 0.38 #m, Longitud del paquete comprimido\n",
    "N_p = 1 #Número de pasadas\n",
    "m = 140 #kg/s, Flujo másico igual para ambos flujos\n",
    "mu_h = 5.09e-4 #Pa$\\cdot$s\n",
    "mu_c = 7.66e-4 #Pa$\\cdot$s"
   ]
  },
  {
   "cell_type": "code",
   "execution_count": 11,
   "id": "884f3d94-aecc-44bf-b5ff-007ea1380bdc",
   "metadata": {},
   "outputs": [
    {
     "data": {
      "text/latex": [
       "$$\n",
       "\\begin{aligned}\n",
       "p &= \\frac{ L_{c} }{ N_{t} }  = \\frac{ 0.380 }{ 105 } &= 0.004 \\; \\;\\textrm{(m)}\n",
       "\\\\[10pt]\n",
       "b &= p - t  = 0.004 - 0.001 &= 0.003 \\; \\;\\textrm{(m)}\n",
       "\\\\[10pt]\n",
       "D_{h} &= 2 \\cdot \\frac{ b }{ \\phi }  = 2 \\cdot \\frac{ 0.003 }{ 1.256 } &= 0.005 \\; \\;\\textrm{(m)}\n",
       "\\\\[10pt]\n",
       "N_{cp} &= \\frac{ N_{t} - 1 }{ 2 \\cdot N_{p} }  = \\frac{ 105 - 1 }{ 2 \\cdot 1 } &= 52.000  \n",
       "\\\\[10pt]\n",
       "m_{ch} &= \\frac{ m }{ N_{cp} }  = \\frac{ 140 }{ 52.000 } &= 2.692 \\; \\;\\textrm{(kg/s)}\n",
       "\\\\[10pt]\n",
       "G_{ch} &= \\frac{ m_{ch} }{ b \\cdot L_{w} }  = \\frac{ 2.692 }{ 0.003 \\cdot 0.630 } &= 1415.514 \\; \\;\\textrm{(kg/m$^2$s)}\n",
       "\\\\[10pt]\n",
       "\\mathrm{Re}_{h} &= G_{ch} \\cdot \\frac{ D_{h} }{ \\mu_{h} }  = 1415.514 \\cdot \\frac{ 0.005 }{ 0.001 } &= 13372.580  \n",
       "\\\\[10pt]\n",
       "\\mathrm{Re}_{c} &= G_{ch} \\cdot \\frac{ D_{h} }{ \\mu_{c} }  = 1415.514 \\cdot \\frac{ 0.005 }{ 0.001 } &= 8885.957  \n",
       "\\end{aligned}\n",
       "$$"
      ],
      "text/plain": [
       "<IPython.core.display.Latex object>"
      ]
     },
     "metadata": {},
     "output_type": "display_data"
    }
   ],
   "source": [
    "%%render short\n",
    "p = L_c/N_t #m\n",
    "b = p - t #m\n",
    "D_h = 2*b/phi #m\n",
    "N_cp = (N_t-1)/(2*N_p)\n",
    "m_ch = m/N_cp #kg/s\n",
    "G_ch = m_ch/(b*L_w) #kg/m$^2$s\n",
    "Re_h = G_ch*D_h/mu_h\n",
    "Re_c = G_ch*D_h/mu_c"
   ]
  },
  {
   "cell_type": "markdown",
   "id": "982895b6-927a-431b-9944-6c6a01d241a8",
   "metadata": {},
   "source": [
    "Entonces la alternativa correcta es la **c**."
   ]
  },
  {
   "cell_type": "markdown",
   "id": "4ed062da-8e7a-4dcc-ac49-a1e25a57db9a",
   "metadata": {},
   "source": [
    "## Pregunta 3"
   ]
  },
  {
   "cell_type": "markdown",
   "id": "cc9d93df-c62e-48d3-b2bd-739cc07d1284",
   "metadata": {},
   "source": [
    "Encuentre el factor de limpieza definido como $CF = U_f/U_c$,\n",
    "\n",
    "(a) $CF \\leq 0.4$ \\\n",
    "(b) $0.4 < CF \\leq 0.6$ \\\n",
    "(c) $0.6 < CF \\leq 0.8$ \\\n",
    "(d) $0.8 < CF \\leq 1$"
   ]
  },
  {
   "cell_type": "markdown",
   "id": "d8ebd470-ffcb-44c3-8cea-c3d2cc3ecc4d",
   "metadata": {},
   "source": [
    "## Solución"
   ]
  },
  {
   "cell_type": "markdown",
   "id": "5ca38499-b43d-4e60-8c5b-a7dbe77fb76a",
   "metadata": {},
   "source": [
    "Se debe comparar el coeficiente global de transferencia de calor sucio respecto al limpio. Para $\\beta=$ 45$^\\circ$ y número de Reynolds sobre 100, tenemos que $C_h=0.3$ y $n=0.663$."
   ]
  },
  {
   "cell_type": "code",
   "execution_count": 20,
   "id": "d8132ea9-3732-4a81-845a-476a53c7cb88",
   "metadata": {},
   "outputs": [
    {
     "data": {
      "text/latex": [
       "$$\n",
       "\\begin{aligned}\n",
       "k_{h} &= 0.645 \\; \\;\\textrm{(W/m$\\cdot$K, Conductividad térmica fluido caliente)}\n",
       " &k_{c} &= 0.617 \\; \\;\\textrm{(W/m$\\cdot$K, Conductividad térmica fluido frio)}\n",
       " &\\mathrm{Pr}_{h} &= 3.310 \\; \n",
       "\\\\[10pt]\n",
       " \\mathrm{Pr}_{c} &= 5.190 \\; \n",
       " &k_{w} &= 17.500 \\; \\;\\textrm{(W/m$\\cdot$K, Conductividad térmica de la placa)}\n",
       " &R_{f} &= 0.000 \\; \\;\\textrm{(m$^2\\cdot$K/W, Resistencia total a la incrustación)}\n",
       "\\\\[10pt]\n",
       "\\end{aligned}\n",
       "$$"
      ],
      "text/plain": [
       "<IPython.core.display.Latex object>"
      ]
     },
     "metadata": {},
     "output_type": "display_data"
    }
   ],
   "source": [
    "%%render params\n",
    "k_h = 0.645 #W/m$\\cdot$K, Conductividad térmica fluido caliente\n",
    "k_c = 0.617 #W/m$\\cdot$K, Conductividad térmica fluido frio\n",
    "Pr_h = 3.31\n",
    "Pr_c = 5.19\n",
    "k_w = 17.5 #W/m$\\cdot$K, Conductividad térmica de la placa\n",
    "R_f = 0.00005 #m$^2\\cdot$K/W, Resistencia total a la incrustación"
   ]
  },
  {
   "cell_type": "code",
   "execution_count": 21,
   "id": "9050e5b3-13b9-4a09-a073-a0cf07ccad95",
   "metadata": {},
   "outputs": [
    {
     "data": {
      "text/latex": [
       "$$\n",
       "\\begin{aligned}\n",
       "\\mathrm{Nus}_{h} &= 0.3 \\cdot \\left( \\mathrm{Re}_{h} \\right) ^{ 0.663 } \\cdot \\left( \\mathrm{Pr}_{h} \\right) ^{ \\left( \\frac{ 1 }{ 3 } \\right) } \\\\&= 0.3 \\cdot \\left( 13372.580 \\right) ^{ 0.663 } \\cdot \\left( 3.310 \\right) ^{ \\left( \\frac{ 1 }{ 3 } \\right) } \\\\&= 243.264  \\\\[10pt]\n",
       "\\\\[10pt]\n",
       "\\mathrm{Nus}_{c} &= 0.3 \\cdot \\left( \\mathrm{Re}_{c} \\right) ^{ 0.663 } \\cdot \\left( \\mathrm{Pr}_{c} \\right) ^{ \\left( \\frac{ 1 }{ 3 } \\right) } \\\\&= 0.3 \\cdot \\left( 8885.957 \\right) ^{ 0.663 } \\cdot \\left( 5.190 \\right) ^{ \\left( \\frac{ 1 }{ 3 } \\right) } \\\\&= 215.527  \\\\[10pt]\n",
       "\\\\[10pt]\n",
       "h_{h} &= \\mathrm{Nus}_{h} \\cdot \\frac{ k_{h} }{ D_{h} } \\\\&= 243.264 \\cdot \\frac{ 0.645 }{ 0.005 } \\\\&= 32630.133 \\; \\;\\textrm{(W/m$^2\\cdot$K)}\\\\[10pt]\n",
       "\\\\[10pt]\n",
       "h_{c} &= \\mathrm{Nus}_{c} \\cdot \\frac{ k_{c} }{ D_{h} } \\\\&= 215.527 \\cdot \\frac{ 0.617 }{ 0.005 } \\\\&= 27654.615 \\; \\;\\textrm{(W/m$^2\\cdot$K)}\\\\[10pt]\n",
       "\\end{aligned}\n",
       "$$"
      ],
      "text/plain": [
       "<IPython.core.display.Latex object>"
      ]
     },
     "metadata": {},
     "output_type": "display_data"
    }
   ],
   "source": [
    "%%render long\n",
    "Nus_h = 0.3*Re_h**0.663*Pr_h**(1/3)\n",
    "Nus_c = 0.3*Re_c**0.663*Pr_c**(1/3)\n",
    "h_h = Nus_h*k_h/D_h #W/m$^2\\cdot$K\n",
    "h_c = Nus_c*k_c/D_h #W/m$^2\\cdot$K"
   ]
  },
  {
   "cell_type": "code",
   "execution_count": 26,
   "id": "9a5c74cd-c913-448a-953a-c63056150386",
   "metadata": {},
   "outputs": [
    {
     "data": {
      "text/latex": [
       "$$\n",
       "\\begin{aligned}\n",
       "U_{c} &= \\left( \\frac{ 1 }{ h_{h} } + \\frac{ 1 }{ h_{c} } + \\frac{ t }{ k_{w} } \\right) ^{ \\left( - 1 \\right) } \\\\&= \\left( \\frac{ 1 }{ 32630.133 } + \\frac{ 1 }{ 27654.615 } + \\frac{ 0.001 }{ 17.500 } \\right) ^{ \\left( - 1 \\right) } \\\\&= 9891.924 \\; \\;\\textrm{(W/m$^2\\cdot$K)}\\\\[10pt]\n",
       "\\\\[10pt]\n",
       "U_{f} &= \\left( \\frac{ 1 }{ U_{c} } + R_{f} \\right) ^{ \\left( - 1 \\right) } \\\\&= \\left( \\frac{ 1 }{ 9891.924 } + 0.000 \\right) ^{ \\left( - 1 \\right) } \\\\&= 6618.459 \\; \\;\\textrm{(W/m$^2\\cdot$K)}\\\\[10pt]\n",
       "\\\\[10pt]\n",
       "\\mathrm{CF} &= \\frac{ U_{f} }{ U_{c} } \\\\&= \\frac{ 6618.459 }{ 9891.924 } \\\\&= 0.669  \\\\[10pt]\n",
       "\\end{aligned}\n",
       "$$"
      ],
      "text/plain": [
       "<IPython.core.display.Latex object>"
      ]
     },
     "metadata": {},
     "output_type": "display_data"
    }
   ],
   "source": [
    "%%render long\n",
    "U_c = (1/h_h + 1/h_c + t/k_w)**(-1) #W/m$^2\\cdot$K\n",
    "U_f = (1/U_c + R_f)**(-1) #W/m$^2\\cdot$K\n",
    "CF = U_f/U_c"
   ]
  },
  {
   "cell_type": "markdown",
   "id": "5185c5cb-8833-48bc-8653-0b1c6732ce25",
   "metadata": {},
   "source": [
    "Entonces la alternativa correcta es la **c**."
   ]
  },
  {
   "cell_type": "markdown",
   "id": "632af129-f205-4fc6-8216-a949db5a4ca1",
   "metadata": {},
   "source": [
    "## Pregunta 4"
   ]
  },
  {
   "cell_type": "markdown",
   "id": "137a7a59-a336-4f54-ba21-98654231428b",
   "metadata": {},
   "source": [
    "Calcule la caida de presión por el lado del fluido frio y determine si supera o no la caída de presión máxima permitida.\n",
    "\n",
    "(a) $(\\Delta p_t)_c \\leq 30$ psi \\\n",
    "(b) $30 < (\\Delta p_t)_c \\leq 40$ psi \\\n",
    "(c) $40 < (\\Delta p_t)_c \\leq 50$ psi \\\n",
    "(d) $(\\Delta p_t)_c > 50$ psi"
   ]
  },
  {
   "cell_type": "markdown",
   "id": "8a088c14-174d-4d7e-94ff-de76cb166559",
   "metadata": {},
   "source": [
    "## Solución"
   ]
  },
  {
   "cell_type": "markdown",
   "id": "21217805-da72-48e9-a5c7-5ee8ed14319d",
   "metadata": {},
   "source": [
    "El factor de fricción para el mismo ángulo Chevrón y Reynolds sobre 100 será, $K_p=1.441$ y $m=0.206$."
   ]
  },
  {
   "cell_type": "code",
   "execution_count": 29,
   "id": "fb57c57f-a43d-44d7-b6a4-9cfbf9413d84",
   "metadata": {},
   "outputs": [
    {
     "data": {
      "text/latex": [
       "$$\n",
       "\\begin{aligned}\n",
       "\\rho_{c} &= 995 \\; \\;\\textrm{(kg/m$^3$)}\n",
       "\\end{aligned}\n",
       "$$"
      ],
      "text/plain": [
       "<IPython.core.display.Latex object>"
      ]
     },
     "metadata": {},
     "output_type": "display_data"
    }
   ],
   "source": [
    "%%render params\n",
    "rho_c = 995 #kg/m$^3$"
   ]
  },
  {
   "cell_type": "code",
   "execution_count": 39,
   "id": "d8d27953-d880-462e-bb17-75e362518b9a",
   "metadata": {},
   "outputs": [
    {
     "data": {
      "text/latex": [
       "$$\n",
       "\\begin{aligned}\n",
       "& \\textrm{ Pérdidas en las placas}\\\\[10pt]\n",
       "f &= \\frac{ 1.441 }{ \\left( \\mathrm{Re}_{c} \\right) ^{ 0.206 } } \\\\&= \\frac{ 1.441 }{ \\left( 8885.957 \\right) ^{ 0.206 } } \\\\&= 0.221  \\\\[10pt]\n",
       "\\\\[10pt]\n",
       "\\mathrm{Dp}_{c} &= 4 \\cdot f \\cdot \\frac{ L_{v} \\cdot N_{p} }{ D_{h} } \\cdot \\left( \\frac{ \\left( G_{ch} \\right) ^{ 2 } }{ 2 \\cdot \\rho_{c} } \\right) \\\\&= 4 \\cdot 0.221 \\cdot \\frac{ 1.550 \\cdot 1 }{ 0.005 } \\cdot \\left( \\frac{ \\left( 1415.514 \\right) ^{ 2 } }{ 2 \\cdot 995 } \\right) \\\\&= 287461.089 \\; \\;\\textrm{(Pa)}\\\\[10pt]\n",
       "\\\\[10pt]\n",
       "& \\textrm{ Pérdidas en los conductos de puerto}\\\\[10pt]\n",
       "G_{p} &= \\frac{ 4 \\cdot m }{ \\pi \\cdot \\left( D_{p} \\right) ^{ 2 } } \\\\&= \\frac{ 4 \\cdot 140 }{ 3.142 \\cdot \\left( 0.200 \\right) ^{ 2 } } \\\\&= 4456.338 \\; \\;\\textrm{(kg/m$^2\\cdot$s)}\\\\[10pt]\n",
       "\\\\[10pt]\n",
       "\\mathrm{Dp}_{p} &= 1.4 \\cdot N_{p} \\cdot \\frac{ \\left( G_{p} \\right) ^{ 2 } }{ 2 \\cdot \\rho_{c} } \\\\&= 1.4 \\cdot 1 \\cdot \\frac{ \\left( 4456.338 \\right) ^{ 2 } }{ 2 \\cdot 995 } \\\\&= 13971.122 \\; \\;\\textrm{(Pa)}\\\\[10pt]\n",
       "\\\\[10pt]\n",
       "& \\textrm{ Péridas totales por el lado del fluido frio}\\\\[10pt]\n",
       "\\mathrm{Dp}_{t} &= \\frac{ \\mathrm{Dp}_{c} + \\mathrm{Dp}_{p} }{ 6895 } \\\\&= \\frac{ 287461.089 + 13971.122 }{ 6895 } \\\\&= 43.718 \\; \\;\\textrm{(psi)}\\\\[10pt]\n",
       "\\end{aligned}\n",
       "$$"
      ],
      "text/plain": [
       "<IPython.core.display.Latex object>"
      ]
     },
     "metadata": {},
     "output_type": "display_data"
    }
   ],
   "source": [
    "%%render long\n",
    "## Pérdidas en las placas\n",
    "f = 1.441/Re_c**0.206\n",
    "Dp_c = 4*f*(L_v*N_p)/D_h*(G_ch**2/(2*rho_c)) #Pa\n",
    "## Pérdidas en los conductos de puerto\n",
    "G_p = (4*m)/(pi*D_p**2) #kg/m$^2\\cdot$s\n",
    "Dp_p = 1.4*N_p*G_p**2/(2*rho_c) #Pa\n",
    "## Péridas totales por el lado del fluido frio\n",
    "Dp_t = (Dp_c + Dp_p)/6895  #psi"
   ]
  },
  {
   "cell_type": "markdown",
   "id": "8486c729-d4c2-48c4-b48a-353a6c41f3e7",
   "metadata": {},
   "source": [
    "Por lo tanto la alternativa correcta es la **c**."
   ]
  }
 ],
 "metadata": {
  "kernelspec": {
   "display_name": "Python 3 (ipykernel)",
   "language": "python",
   "name": "python3"
  },
  "language_info": {
   "codemirror_mode": {
    "name": "ipython",
    "version": 3
   },
   "file_extension": ".py",
   "mimetype": "text/x-python",
   "name": "python",
   "nbconvert_exporter": "python",
   "pygments_lexer": "ipython3",
   "version": "3.11.9"
  }
 },
 "nbformat": 4,
 "nbformat_minor": 5
}
