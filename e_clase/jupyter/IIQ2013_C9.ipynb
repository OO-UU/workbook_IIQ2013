{
  "cells": [
    {
      "cell_type": "markdown",
      "metadata": {},
      "source": [
        "---\n",
        "title: 'Ejercicio clase 9'\n",
        "format:\n",
        "    html: \n",
        "      code-copy: true\n",
        "      code-fold: false\n",
        "\n",
        "execute: \n",
        "  echo: true\n",
        "\n",
        "jupyter: python3\n",
        "---\n",
        "\n",
        "El transformador de potencia eléctrica cilíndrico de la figura adjunta disipa $q=1~\\mathrm{kW}$.\n",
        "\n",
        "![Esquema transformador eléctrico.](./images/img_EC-9.png){#fig-EC9-1 fig-align=\"center\"}\n",
        "\n",
        "Librerías a utilizar:"
      ]
    },
    {
      "cell_type": "code",
      "metadata": {},
      "source": [
        "import handcalcs.render\n",
        "from handcalcs import handcalc\n",
        "handcalcs.set_option(\"latex_block_start\", \"$$\")\n",
        "handcalcs.set_option(\"latex_block_end\", \"$$\")\n",
        "from numpy import pi, log"
      ],
      "execution_count": null,
      "outputs": []
    },
    {
      "cell_type": "markdown",
      "metadata": {},
      "source": [
        "## Pregunta 1\n",
        "\n",
        "Si se desea mantener la temperatura superficial del transformador a $T_S=47~^\\circ\\mathrm{C}$ sumistrando un refrigerante (glicerina) a $T_{m,i}=24~^\\circ\\mathrm{C}$ por una tubería de pared delgada de 20 mm de diámetro soldada a la superficie lateral del transformador, la diferencia de temperatura relevante ($\\Delta T_{ml}$) si la temperatura de la glicerina se puede elevar hasta un máximo de $T_{m,o}=30~^\\circ\\mathrm{C}$ es aproximadamente la siguiente:\n",
        "\n",
        "(a) $\\Delta T_{ml} \\leq 15~^\\circ\\mathrm{C}$ \\\n",
        "(b) $15~^\\circ\\mathrm{C}<\\Delta T_{ml} \\leq 18~^\\circ\\mathrm{C}$ \\\n",
        "(c) $18~^\\circ\\mathrm{C}<\\Delta T_{ml} \\leq 20~^\\circ\\mathrm{C}$ \\\n",
        "(d) $\\Delta T_{ml} \\geq 20~^\\circ\\mathrm{C}$\n",
        "\n",
        "<button class=\"btn btn-success\" data-bs-toggle=\"collapse\" href=\"#ec_9-1-sol\" aria-expanded=\"false\">Mostrar solución</button>\n",
        "\n",
        "::: {#ec_9-1-sol .collapse .multi-collapse}"
      ]
    },
    {
      "cell_type": "code",
      "metadata": {},
      "source": [
        "%%render params\n",
        "d = 20*10**(-3) #m\n",
        "T_S = 47 #$^\\circ$C\n",
        "T_mi = 24 #$^\\circ$C\n",
        "T_mo = 30 #$^\\circ$C"
      ],
      "execution_count": null,
      "outputs": []
    },
    {
      "cell_type": "code",
      "metadata": {},
      "source": [
        "%%render long\n",
        "DT_ml = ((T_S-T_mi)-(T_S-T_mo))/log((T_S-T_mi)/(T_S-T_mo)) # $^\\circ$C o K"
      ],
      "execution_count": null,
      "outputs": []
    },
    {
      "cell_type": "markdown",
      "metadata": {},
      "source": [
        "La alternativa correcta es la **c**.\n",
        "\n",
        ":::\n",
        "\n",
        "## Pregunta 2\n",
        "\n",
        "Considerando $c_P = 2.427~\\mathrm{kJ}\\cdot\\mathrm{kg}^{-1}\\cdot^\\circ\\mathrm{C}^{-1}$ para el refrigerante (glicerina), el flujo másico de refrigerante ($F$) requerido es aproxidamente el siguiente:\n",
        "\n",
        "(a) $F < 1.0~\\mathrm{kg/min}$ \\\n",
        "(b) $1.0 \\leq F < 2.0~\\mathrm{kg/min}$ \\\n",
        "(c) $2.0 \\leq F < 3.5~\\mathrm{kg/min}$ \\\n",
        "(d) $F \\geq 3.5~\\mathrm{kg/min}$\n",
        "\n",
        "<button class=\"btn btn-success\" data-bs-toggle=\"collapse\" href=\"#ec_9-2-sol\" aria-expanded=\"false\">Mostrar solución</button>\n",
        "\n",
        "::: {#ec_9-2-sol .collapse .multi-collapse}\n",
        "\n",
        "Se despeja $F$ a partir de:\n",
        "\n",
        "$$\n",
        "Q = \\left[Fc_P\\Delta T\\right]_c\n",
        "$$"
      ]
    },
    {
      "cell_type": "code",
      "metadata": {},
      "source": [
        "%%render params\n",
        "Q = 1 #kW\n",
        "c_P = 2.427 # kJ/kg$\\cdot^\\circ$C"
      ],
      "execution_count": null,
      "outputs": []
    },
    {
      "cell_type": "code",
      "metadata": {},
      "source": [
        "%%render long\n",
        "F = Q/(c_P*(T_mo-T_mi)) # kg/s\n",
        "F_min = F*60 #kg/min"
      ],
      "execution_count": null,
      "outputs": []
    },
    {
      "cell_type": "markdown",
      "metadata": {},
      "source": [
        "La alternativa correcta es la **d**.\n",
        "\n",
        ":::\n",
        "\n",
        "## Pregunta 3\n",
        "\n",
        "Asumiendo un largo de tubería de $L=4.5~\\mathrm{m}$, el coeficiente de transferencia de calor por convección ($h$) de la glicerina es el siguiente:\n",
        "\n",
        "(a) $h < 100~\\mathrm{W}\\cdot\\mathrm{m}^{-2}\\cdot\\mathrm{K}^{-1}$ \\\n",
        "(b) $100 \\leq h < 140~\\mathrm{W}\\cdot\\mathrm{m}^{-2}\\cdot\\mathrm{K}^{-1}$ \\\n",
        "(c) $140 \\leq h < 180~\\mathrm{W}\\cdot\\mathrm{m}^{-2}\\cdot\\mathrm{K}^{-1}$ \\\n",
        "(d) $h \\geq 180~\\mathrm{W}\\cdot\\mathrm{m}^{-2}\\cdot\\mathrm{K}^{-1}$\n",
        "\n",
        "<button class=\"btn btn-success\" data-bs-toggle=\"collapse\" href=\"#ec_9-3-sol\" aria-expanded=\"false\">Mostrar solución</button>\n",
        "\n",
        "::: {#ec_9-3-sol .collapse .multi-collapse}\n",
        "\n",
        "Desde la ecuación de diseño:\n",
        "\n",
        "$$\n",
        "Q = UA\\Delta T_{ml}\n",
        "$$"
      ]
    },
    {
      "cell_type": "code",
      "metadata": {},
      "source": [
        "%%render long\n",
        "L = 4.5 #m\n",
        "U = Q/(pi*d*4.5*DT_ml)*1000 #W/m$^2\\cdot$K"
      ],
      "execution_count": null,
      "outputs": []
    },
    {
      "cell_type": "markdown",
      "metadata": {},
      "source": [
        "En este caso, $U=h_i$, entonces la alternativa correcta es la **c**.\n",
        "\n",
        ":::\n",
        "\n",
        "## Pregunta 4\n",
        "\n",
        "Considerando $\\rho=1259.9~\\mathrm{kg}\\cdot\\mathrm{m}^{-3}$, $\\mu=0.799~\\mathrm{Pa}\\cdot\\mathrm{s}$, $k=0.286~\\mathrm{W}\\cdot\\mathrm{m}^{-1}\\cdot\\mathrm{K}^{-1}$ y $Pr=6780$ para el refrigerante (glicerina), determine el valor del número de Reynolds para el fluido que circula por el tubo ($Re_D$):\n",
        "\n",
        "(a) $Re_D < 10$ \\\n",
        "(b) $10 \\leq Re_D < 100$ \\\n",
        "(c) $100 \\leq Re_D < 1000$ \\\n",
        "(d) $Re_D \\geq 1000$\n",
        "\n",
        "<button class=\"btn btn-success\" data-bs-toggle=\"collapse\" href=\"#ec_9-4-sol\" aria-expanded=\"false\">Mostrar solución</button>\n",
        "\n",
        "::: {#ec_9-4-sol .collapse .multi-collapse}"
      ]
    },
    {
      "cell_type": "code",
      "metadata": {},
      "source": [
        "%%render long\n",
        "rho = 1259.9 #kg/m$^3$\n",
        "mu = 0.799 #Pa$\\cdot$s\n",
        "Re_D = (4*F)/(mu*pi*d)"
      ],
      "execution_count": null,
      "outputs": []
    },
    {
      "cell_type": "markdown",
      "metadata": {},
      "source": [
        "La alternativa correcta es la **a**.\n",
        "\n",
        ":::\n",
        "\n",
        "## Pregunta 5\n",
        "\n",
        "Determine el coeficiente de transferencia de calor para el fluido que circula por el tubo ($h_{ag}$)\n",
        "usando una correlación adecuada para el régimen de flujo determinado a partir de (4), que\n",
        "considere que la glicerina se está calentando (considere que $= 0.207~\\mathrm{Pa}\\cdot\\mathrm{s}$ para glicerina a $47~^\\circ\\mathrm{C}$):\n",
        "\n",
        "(a) $h_{ag} < 100~\\mathrm{W}\\cdot\\mathrm{m}^{-2}\\cdot\\mathrm{K}^{-1}$ \\\n",
        "(b) $100 \\leq h_{ag} < 140~\\mathrm{W}\\cdot\\mathrm{m}^{-2}\\cdot\\mathrm{K}^{-1}$ \\\n",
        "(c) $140 \\leq h_{ag} < 180~\\mathrm{W}\\cdot\\mathrm{m}^{-2}\\cdot\\mathrm{K}^{-1}$ \\\n",
        "(d) $h_{ag} \\geq 180~\\mathrm{W}\\cdot\\mathrm{m}^{-2}\\cdot\\mathrm{K}^{-1}$\n",
        "\n",
        "<button class=\"btn btn-success\" data-bs-toggle=\"collapse\" href=\"#ec_9-5-sol\" aria-expanded=\"false\">Mostrar solución</button>\n",
        "\n",
        "Asumiendo que $Re<2300$ a partir de los resultados del inciso anterior; el flujo será laminar.\n",
        "\n",
        "::: {#ec_9-5-sol .collapse .multi-collapse}"
      ]
    },
    {
      "cell_type": "code",
      "metadata": {},
      "source": [
        "%%render long\n",
        "Pr = 6780\n",
        "k = 0.286 #W/m$\\cdot$K\n",
        "Nu_D = Pr**(1/3)*1.86*(d/L)**(1/3)*Re_D**(1/3)\n",
        "h = (Nu_D*k)/d #W/m$^2\\cdot$K"
      ],
      "execution_count": null,
      "outputs": []
    },
    {
      "cell_type": "markdown",
      "metadata": {},
      "source": [
        "La alternativa correcta es la **c**.\n",
        "\n",
        ":::"
      ]
    }
  ],
  "metadata": {
    "kernelspec": {
      "name": "python3",
      "language": "python",
      "display_name": "Python 3 (ipykernel)",
      "path": "/home/igtab/Documents/web_project/quarto_oouu1/workbook_IIQ2013/.venv/share/jupyter/kernels/python3"
    }
  },
  "nbformat": 4,
  "nbformat_minor": 4
}